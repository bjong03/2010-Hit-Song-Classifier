{
 "cells": [
  {
   "attachments": {},
   "cell_type": "markdown",
   "metadata": {},
   "source": [
    "# Classifying Hit Songs in 2010 based on Musical Characteristics\n",
    "The dataset that was used for this project can be found on GitHub: https://github.com/fortytwo102/the-spotify-hit-predictor-dataset"
   ]
  },
  {
   "attachments": {},
   "cell_type": "markdown",
   "metadata": {},
   "source": [
    "The following variables are used and defined as such in this dataset:\n",
    "\n",
    "* track: The name of the track.\n",
    "\n",
    "* artist: The name of the Artist.\n",
    "\n",
    "* uri: The resource identifier for the track.\n",
    "\n",
    "* danceability: Danceability describes how suitable a track is for dancing based on a combination of musical elements including tempo, rhythm stability, beat strength, and overall regularity. A value of 0.0 is least danceable and 1.0 is most danceable. \n",
    "\n",
    "* energy: Energy is a measure from 0.0 to 1.0 and represents a perceptual measure of intensity and activity. Typically, energetic tracks feel fast, loud, and noisy. For example, death metal has high energy, while a Bach prelude scores low on the scale. Perceptual features contributing to this attribute include dynamic range, perceived loudness, timbre, onset rate, and general entropy. \n",
    "\n",
    "* key: The estimated overall key of the track. Integers map to pitches using standard Pitch Class notation. E.g. 0 = C, 1 = C?/D?, 2 = D, and so on. If no key was detected, the value is -1.\n",
    "\n",
    "* loudness: The overall loudness of a track in decibels (dB). Loudness values are averaged across the entire track and are useful for comparing relative loudness of tracks. Loudness is the quality of a sound that is the primary psychological correlate of physical strength (amplitude). Values typical range between -60 and 0 db. \n",
    "\t\t   \n",
    "* mode: Mode indicates the modality (major or minor) of a track, the type of scale from which its melodic content is derived. Major is represented by 1 and minor is 0.\n",
    "\n",
    "* speechiness: Speechiness detects the presence of spoken words in a track. The more exclusively speech-like the recording (e.g. talk show, audio book, poetry), the closer to 1.0 the attribute value. Values above 0.66 describe tracks that are probably made entirely of spoken words. Values between 0.33 and 0.66 describe tracks that may contain both music and speech, either in sections or layered, including such cases as rap music. Values below 0.33 most likely represent music and other non-speech-like tracks. \n",
    "\n",
    "* acousticness: A confidence measure from 0.0 to 1.0 of whether the track is acoustic. 1.0 represents high confidence the track is acoustic. The distribution of values for this feature look like this:\n",
    "\t\n",
    "* instrumentalness: Predicts whether a track contains no vocals. “Ooh” and “aah” sounds are treated as instrumental in this context. Rap or spoken word tracks are clearly “vocal”. The closer the instrumentalness value is to 1.0, the greater likelihood the track contains no vocal content. Values above 0.5 are intended to represent instrumental tracks, but confidence is higher as the value approaches 1.0. The distribution of values for this feature look like this:\n",
    "\t\n",
    "* liveness: Detects the presence of an audience in the recording. Higher liveness values represent an increased probability that the track was performed live. A value above 0.8 provides strong likelihood that the track is live.\n",
    "\t\n",
    "* valence: A measure from 0.0 to 1.0 describing the musical positiveness conveyed by a track. Tracks with high valence sound more positive (e.g. happy, cheerful, euphoric), while tracks with low valence sound more negative (e.g. sad, depressed, angry).\n",
    "\t\n",
    "* tempo: The overall estimated tempo of a track in beats per minute (BPM). In musical terminology, tempo is the speed or pace of a given piece and derives directly from the average beat duration. \n",
    "\t\n",
    "* duration_ms: The duration of the track measured in milliseconds.\n",
    "\t\n",
    "* time_signature: An estimated overall time signature of a track. The time signature (meter) is a notational convention to specify how many beats are in each bar (or measure).\n",
    "\t\n",
    "* chorus_hit: This the the author's best estimate of when the chorus would start for the track. Its the timestamp of the start of the third section of the track (in milliseconds). This feature was extracted from the data recieved by the API call for Audio Analysis of that particular track.\n",
    "\t\n",
    "* sections: The number of sections the particular track has. This feature was extracted from the data recieved by the API call for Audio Analysis of that particular track.\n",
    "\t\n",
    "* target: The target variable for the track. It can be either '0' or '1'. '1' implies that this song has featured in the weekly list (issued by Billboards) of Hot-100 tracks in that decade at least once and is therefore a 'hit'. '0' Implies that the track is a 'flop'."
   ]
  },
  {
   "cell_type": "code",
   "execution_count": 1,
   "metadata": {},
   "outputs": [
    {
     "name": "stdout",
     "output_type": "stream",
     "text": [
      "<class 'pandas.core.frame.DataFrame'>\n",
      "RangeIndex: 6398 entries, 0 to 6397\n",
      "Data columns (total 19 columns):\n",
      " #   Column            Non-Null Count  Dtype  \n",
      "---  ------            --------------  -----  \n",
      " 0   track             6398 non-null   object \n",
      " 1   artist            6398 non-null   object \n",
      " 2   uri               6398 non-null   object \n",
      " 3   danceability      6398 non-null   float64\n",
      " 4   energy            6398 non-null   float64\n",
      " 5   key               6398 non-null   int64  \n",
      " 6   loudness          6398 non-null   float64\n",
      " 7   mode              6398 non-null   int64  \n",
      " 8   speechiness       6398 non-null   float64\n",
      " 9   acousticness      6398 non-null   float64\n",
      " 10  instrumentalness  6398 non-null   float64\n",
      " 11  liveness          6398 non-null   float64\n",
      " 12  valence           6398 non-null   float64\n",
      " 13  tempo             6398 non-null   float64\n",
      " 14  duration_ms       6398 non-null   int64  \n",
      " 15  time_signature    6398 non-null   int64  \n",
      " 16  chorus_hit        6398 non-null   float64\n",
      " 17  sections          6398 non-null   int64  \n",
      " 18  target            6398 non-null   int64  \n",
      "dtypes: float64(10), int64(6), object(3)\n",
      "memory usage: 949.8+ KB\n"
     ]
    }
   ],
   "source": [
    "import pandas as pd\n",
    "url = \"https://raw.githubusercontent.com/fortyTwo102/The-Spotify-Hit-Predictor-Dataset/master/dataset-of-10s.csv\"\n",
    "pd.read_csv(url)\n",
    "music = pd.read_csv(url)\n",
    "music_selection = pd.read_csv(url) #raw data\n",
    "music.info()"
   ]
  },
  {
   "cell_type": "code",
   "execution_count": 2,
   "metadata": {},
   "outputs": [
    {
     "data": {
      "text/html": [
       "<div>\n",
       "<style scoped>\n",
       "    .dataframe tbody tr th:only-of-type {\n",
       "        vertical-align: middle;\n",
       "    }\n",
       "\n",
       "    .dataframe tbody tr th {\n",
       "        vertical-align: top;\n",
       "    }\n",
       "\n",
       "    .dataframe thead th {\n",
       "        text-align: right;\n",
       "    }\n",
       "</style>\n",
       "<table border=\"1\" class=\"dataframe\">\n",
       "  <thead>\n",
       "    <tr style=\"text-align: right;\">\n",
       "      <th></th>\n",
       "      <th>track</th>\n",
       "      <th>artist</th>\n",
       "      <th>uri</th>\n",
       "      <th>danceability</th>\n",
       "      <th>energy</th>\n",
       "      <th>key</th>\n",
       "      <th>loudness</th>\n",
       "      <th>mode</th>\n",
       "      <th>speechiness</th>\n",
       "      <th>acousticness</th>\n",
       "      <th>instrumentalness</th>\n",
       "      <th>liveness</th>\n",
       "      <th>valence</th>\n",
       "      <th>tempo</th>\n",
       "      <th>duration_ms</th>\n",
       "      <th>time_signature</th>\n",
       "      <th>chorus_hit</th>\n",
       "      <th>sections</th>\n",
       "      <th>target</th>\n",
       "    </tr>\n",
       "  </thead>\n",
       "  <tbody>\n",
       "    <tr>\n",
       "      <th>0</th>\n",
       "      <td>Wild Things</td>\n",
       "      <td>Alessia Cara</td>\n",
       "      <td>spotify:track:2ZyuwVvV6Z3XJaXIFbspeE</td>\n",
       "      <td>0.741</td>\n",
       "      <td>0.626</td>\n",
       "      <td>1</td>\n",
       "      <td>-4.826</td>\n",
       "      <td>0</td>\n",
       "      <td>0.0886</td>\n",
       "      <td>0.02000</td>\n",
       "      <td>0.0000</td>\n",
       "      <td>0.0828</td>\n",
       "      <td>0.706</td>\n",
       "      <td>108.029</td>\n",
       "      <td>188493</td>\n",
       "      <td>4</td>\n",
       "      <td>41.18681</td>\n",
       "      <td>10</td>\n",
       "      <td>1</td>\n",
       "    </tr>\n",
       "    <tr>\n",
       "      <th>1</th>\n",
       "      <td>Surfboard</td>\n",
       "      <td>Esquivel!</td>\n",
       "      <td>spotify:track:61APOtq25SCMuK0V5w2Kgp</td>\n",
       "      <td>0.447</td>\n",
       "      <td>0.247</td>\n",
       "      <td>5</td>\n",
       "      <td>-14.661</td>\n",
       "      <td>0</td>\n",
       "      <td>0.0346</td>\n",
       "      <td>0.87100</td>\n",
       "      <td>0.8140</td>\n",
       "      <td>0.0946</td>\n",
       "      <td>0.250</td>\n",
       "      <td>155.489</td>\n",
       "      <td>176880</td>\n",
       "      <td>3</td>\n",
       "      <td>33.18083</td>\n",
       "      <td>9</td>\n",
       "      <td>0</td>\n",
       "    </tr>\n",
       "    <tr>\n",
       "      <th>2</th>\n",
       "      <td>Love Someone</td>\n",
       "      <td>Lukas Graham</td>\n",
       "      <td>spotify:track:2JqnpexlO9dmvjUMCaLCLJ</td>\n",
       "      <td>0.550</td>\n",
       "      <td>0.415</td>\n",
       "      <td>9</td>\n",
       "      <td>-6.557</td>\n",
       "      <td>0</td>\n",
       "      <td>0.0520</td>\n",
       "      <td>0.16100</td>\n",
       "      <td>0.0000</td>\n",
       "      <td>0.1080</td>\n",
       "      <td>0.274</td>\n",
       "      <td>172.065</td>\n",
       "      <td>205463</td>\n",
       "      <td>4</td>\n",
       "      <td>44.89147</td>\n",
       "      <td>9</td>\n",
       "      <td>1</td>\n",
       "    </tr>\n",
       "    <tr>\n",
       "      <th>3</th>\n",
       "      <td>Music To My Ears (feat. Tory Lanez)</td>\n",
       "      <td>Keys N Krates</td>\n",
       "      <td>spotify:track:0cjfLhk8WJ3etPTCseKXtk</td>\n",
       "      <td>0.502</td>\n",
       "      <td>0.648</td>\n",
       "      <td>0</td>\n",
       "      <td>-5.698</td>\n",
       "      <td>0</td>\n",
       "      <td>0.0527</td>\n",
       "      <td>0.00513</td>\n",
       "      <td>0.0000</td>\n",
       "      <td>0.2040</td>\n",
       "      <td>0.291</td>\n",
       "      <td>91.837</td>\n",
       "      <td>193043</td>\n",
       "      <td>4</td>\n",
       "      <td>29.52521</td>\n",
       "      <td>7</td>\n",
       "      <td>0</td>\n",
       "    </tr>\n",
       "    <tr>\n",
       "      <th>4</th>\n",
       "      <td>Juju On That Beat (TZ Anthem)</td>\n",
       "      <td>Zay Hilfigerrr &amp; Zayion McCall</td>\n",
       "      <td>spotify:track:1lItf5ZXJc1by9SbPeljFd</td>\n",
       "      <td>0.807</td>\n",
       "      <td>0.887</td>\n",
       "      <td>1</td>\n",
       "      <td>-3.892</td>\n",
       "      <td>1</td>\n",
       "      <td>0.2750</td>\n",
       "      <td>0.00381</td>\n",
       "      <td>0.0000</td>\n",
       "      <td>0.3910</td>\n",
       "      <td>0.780</td>\n",
       "      <td>160.517</td>\n",
       "      <td>144244</td>\n",
       "      <td>4</td>\n",
       "      <td>24.99199</td>\n",
       "      <td>8</td>\n",
       "      <td>1</td>\n",
       "    </tr>\n",
       "    <tr>\n",
       "      <th>5</th>\n",
       "      <td>Here's To Never Growing Up</td>\n",
       "      <td>Avril Lavigne</td>\n",
       "      <td>spotify:track:0qwcGscxUHGZTgq0zcaqk1</td>\n",
       "      <td>0.482</td>\n",
       "      <td>0.873</td>\n",
       "      <td>0</td>\n",
       "      <td>-3.145</td>\n",
       "      <td>1</td>\n",
       "      <td>0.0853</td>\n",
       "      <td>0.01110</td>\n",
       "      <td>0.0000</td>\n",
       "      <td>0.4090</td>\n",
       "      <td>0.737</td>\n",
       "      <td>165.084</td>\n",
       "      <td>214320</td>\n",
       "      <td>4</td>\n",
       "      <td>32.17301</td>\n",
       "      <td>12</td>\n",
       "      <td>1</td>\n",
       "    </tr>\n",
       "    <tr>\n",
       "      <th>6</th>\n",
       "      <td>Sex Metal Barbie</td>\n",
       "      <td>In This Moment</td>\n",
       "      <td>spotify:track:75BGF4LC7AOLFfxn6ukZDH</td>\n",
       "      <td>0.533</td>\n",
       "      <td>0.935</td>\n",
       "      <td>0</td>\n",
       "      <td>-3.704</td>\n",
       "      <td>1</td>\n",
       "      <td>0.1280</td>\n",
       "      <td>0.01390</td>\n",
       "      <td>0.0000</td>\n",
       "      <td>0.1680</td>\n",
       "      <td>0.481</td>\n",
       "      <td>140.092</td>\n",
       "      <td>262493</td>\n",
       "      <td>4</td>\n",
       "      <td>21.04510</td>\n",
       "      <td>14</td>\n",
       "      <td>0</td>\n",
       "    </tr>\n",
       "    <tr>\n",
       "      <th>7</th>\n",
       "      <td>Helluva Night</td>\n",
       "      <td>Ludacris</td>\n",
       "      <td>spotify:track:0flKDWZq11997Fb2ptkQvu</td>\n",
       "      <td>0.736</td>\n",
       "      <td>0.522</td>\n",
       "      <td>2</td>\n",
       "      <td>-8.020</td>\n",
       "      <td>1</td>\n",
       "      <td>0.1160</td>\n",
       "      <td>0.02990</td>\n",
       "      <td>0.0000</td>\n",
       "      <td>0.1080</td>\n",
       "      <td>0.369</td>\n",
       "      <td>97.547</td>\n",
       "      <td>200387</td>\n",
       "      <td>4</td>\n",
       "      <td>60.21027</td>\n",
       "      <td>10</td>\n",
       "      <td>1</td>\n",
       "    </tr>\n",
       "    <tr>\n",
       "      <th>8</th>\n",
       "      <td>Holiday With HH</td>\n",
       "      <td>No Bros</td>\n",
       "      <td>spotify:track:7LBa0KNFR8IY3g7LOfXqu8</td>\n",
       "      <td>0.166</td>\n",
       "      <td>0.985</td>\n",
       "      <td>7</td>\n",
       "      <td>-2.886</td>\n",
       "      <td>1</td>\n",
       "      <td>0.1700</td>\n",
       "      <td>0.00183</td>\n",
       "      <td>0.0142</td>\n",
       "      <td>0.9580</td>\n",
       "      <td>0.139</td>\n",
       "      <td>174.725</td>\n",
       "      <td>252787</td>\n",
       "      <td>4</td>\n",
       "      <td>31.23583</td>\n",
       "      <td>11</td>\n",
       "      <td>0</td>\n",
       "    </tr>\n",
       "    <tr>\n",
       "      <th>9</th>\n",
       "      <td>My Last</td>\n",
       "      <td>Big Sean Featuring Chris Brown</td>\n",
       "      <td>spotify:track:70tFuqBcduJv15bEnOPRTh</td>\n",
       "      <td>0.387</td>\n",
       "      <td>0.773</td>\n",
       "      <td>8</td>\n",
       "      <td>-5.685</td>\n",
       "      <td>1</td>\n",
       "      <td>0.1700</td>\n",
       "      <td>0.09800</td>\n",
       "      <td>0.0000</td>\n",
       "      <td>0.2090</td>\n",
       "      <td>0.368</td>\n",
       "      <td>78.629</td>\n",
       "      <td>254120</td>\n",
       "      <td>4</td>\n",
       "      <td>23.30245</td>\n",
       "      <td>9</td>\n",
       "      <td>1</td>\n",
       "    </tr>\n",
       "  </tbody>\n",
       "</table>\n",
       "</div>"
      ],
      "text/plain": [
       "                                 track                          artist  \\\n",
       "0                          Wild Things                    Alessia Cara   \n",
       "1                            Surfboard                       Esquivel!   \n",
       "2                         Love Someone                    Lukas Graham   \n",
       "3  Music To My Ears (feat. Tory Lanez)                   Keys N Krates   \n",
       "4        Juju On That Beat (TZ Anthem)  Zay Hilfigerrr & Zayion McCall   \n",
       "5           Here's To Never Growing Up                   Avril Lavigne   \n",
       "6                     Sex Metal Barbie                  In This Moment   \n",
       "7                        Helluva Night                        Ludacris   \n",
       "8                      Holiday With HH                         No Bros   \n",
       "9                              My Last  Big Sean Featuring Chris Brown   \n",
       "\n",
       "                                    uri  danceability  energy  key  loudness  \\\n",
       "0  spotify:track:2ZyuwVvV6Z3XJaXIFbspeE         0.741   0.626    1    -4.826   \n",
       "1  spotify:track:61APOtq25SCMuK0V5w2Kgp         0.447   0.247    5   -14.661   \n",
       "2  spotify:track:2JqnpexlO9dmvjUMCaLCLJ         0.550   0.415    9    -6.557   \n",
       "3  spotify:track:0cjfLhk8WJ3etPTCseKXtk         0.502   0.648    0    -5.698   \n",
       "4  spotify:track:1lItf5ZXJc1by9SbPeljFd         0.807   0.887    1    -3.892   \n",
       "5  spotify:track:0qwcGscxUHGZTgq0zcaqk1         0.482   0.873    0    -3.145   \n",
       "6  spotify:track:75BGF4LC7AOLFfxn6ukZDH         0.533   0.935    0    -3.704   \n",
       "7  spotify:track:0flKDWZq11997Fb2ptkQvu         0.736   0.522    2    -8.020   \n",
       "8  spotify:track:7LBa0KNFR8IY3g7LOfXqu8         0.166   0.985    7    -2.886   \n",
       "9  spotify:track:70tFuqBcduJv15bEnOPRTh         0.387   0.773    8    -5.685   \n",
       "\n",
       "   mode  speechiness  acousticness  instrumentalness  liveness  valence  \\\n",
       "0     0       0.0886       0.02000            0.0000    0.0828    0.706   \n",
       "1     0       0.0346       0.87100            0.8140    0.0946    0.250   \n",
       "2     0       0.0520       0.16100            0.0000    0.1080    0.274   \n",
       "3     0       0.0527       0.00513            0.0000    0.2040    0.291   \n",
       "4     1       0.2750       0.00381            0.0000    0.3910    0.780   \n",
       "5     1       0.0853       0.01110            0.0000    0.4090    0.737   \n",
       "6     1       0.1280       0.01390            0.0000    0.1680    0.481   \n",
       "7     1       0.1160       0.02990            0.0000    0.1080    0.369   \n",
       "8     1       0.1700       0.00183            0.0142    0.9580    0.139   \n",
       "9     1       0.1700       0.09800            0.0000    0.2090    0.368   \n",
       "\n",
       "     tempo  duration_ms  time_signature  chorus_hit  sections  target  \n",
       "0  108.029       188493               4    41.18681        10       1  \n",
       "1  155.489       176880               3    33.18083         9       0  \n",
       "2  172.065       205463               4    44.89147         9       1  \n",
       "3   91.837       193043               4    29.52521         7       0  \n",
       "4  160.517       144244               4    24.99199         8       1  \n",
       "5  165.084       214320               4    32.17301        12       1  \n",
       "6  140.092       262493               4    21.04510        14       0  \n",
       "7   97.547       200387               4    60.21027        10       1  \n",
       "8  174.725       252787               4    31.23583        11       0  \n",
       "9   78.629       254120               4    23.30245         9       1  "
      ]
     },
     "execution_count": 2,
     "metadata": {},
     "output_type": "execute_result"
    }
   ],
   "source": [
    "music.head(10)"
   ]
  },
  {
   "cell_type": "code",
   "execution_count": 3,
   "metadata": {},
   "outputs": [
    {
     "data": {
      "text/plain": [
       "array([1, 0])"
      ]
     },
     "execution_count": 3,
     "metadata": {},
     "output_type": "execute_result"
    }
   ],
   "source": [
    "music['target'].unique()"
   ]
  },
  {
   "cell_type": "code",
   "execution_count": 4,
   "metadata": {},
   "outputs": [
    {
     "name": "stdout",
     "output_type": "stream",
     "text": [
      "<class 'pandas.core.frame.DataFrame'>\n",
      "RangeIndex: 6398 entries, 0 to 6397\n",
      "Data columns (total 19 columns):\n",
      " #   Column            Non-Null Count  Dtype   \n",
      "---  ------            --------------  -----   \n",
      " 0   track             6398 non-null   object  \n",
      " 1   artist            6398 non-null   object  \n",
      " 2   uri               6398 non-null   object  \n",
      " 3   danceability      6398 non-null   float64 \n",
      " 4   energy            6398 non-null   float64 \n",
      " 5   key               6398 non-null   int64   \n",
      " 6   loudness          6398 non-null   float64 \n",
      " 7   mode              6398 non-null   int64   \n",
      " 8   speechiness       6398 non-null   float64 \n",
      " 9   acousticness      6398 non-null   float64 \n",
      " 10  instrumentalness  6398 non-null   float64 \n",
      " 11  liveness          6398 non-null   float64 \n",
      " 12  valence           6398 non-null   float64 \n",
      " 13  tempo             6398 non-null   float64 \n",
      " 14  duration_ms       6398 non-null   int64   \n",
      " 15  time_signature    6398 non-null   int64   \n",
      " 16  chorus_hit        6398 non-null   float64 \n",
      " 17  sections          6398 non-null   int64   \n",
      " 18  target            6398 non-null   category\n",
      "dtypes: category(1), float64(10), int64(5), object(3)\n",
      "memory usage: 906.2+ KB\n"
     ]
    }
   ],
   "source": [
    "music[\"target\"] = music[\"target\"].replace({\n",
    "    0 : \"Flop\",\n",
    "    1: \"Hit\"\n",
    "}).astype(\"category\")\n",
    "\n",
    "music.info()"
   ]
  },
  {
   "cell_type": "code",
   "execution_count": 5,
   "metadata": {},
   "outputs": [
    {
     "data": {
      "text/html": [
       "<div>\n",
       "<style scoped>\n",
       "    .dataframe tbody tr th:only-of-type {\n",
       "        vertical-align: middle;\n",
       "    }\n",
       "\n",
       "    .dataframe tbody tr th {\n",
       "        vertical-align: top;\n",
       "    }\n",
       "\n",
       "    .dataframe thead th {\n",
       "        text-align: right;\n",
       "    }\n",
       "</style>\n",
       "<table border=\"1\" class=\"dataframe\">\n",
       "  <thead>\n",
       "    <tr style=\"text-align: right;\">\n",
       "      <th></th>\n",
       "      <th>Count</th>\n",
       "      <th>Percentage</th>\n",
       "    </tr>\n",
       "    <tr>\n",
       "      <th>target</th>\n",
       "      <th></th>\n",
       "      <th></th>\n",
       "    </tr>\n",
       "  </thead>\n",
       "  <tbody>\n",
       "    <tr>\n",
       "      <th>Flop</th>\n",
       "      <td>3199</td>\n",
       "      <td>50.0</td>\n",
       "    </tr>\n",
       "    <tr>\n",
       "      <th>Hit</th>\n",
       "      <td>3199</td>\n",
       "      <td>50.0</td>\n",
       "    </tr>\n",
       "  </tbody>\n",
       "</table>\n",
       "</div>"
      ],
      "text/plain": [
       "        Count  Percentage\n",
       "target                   \n",
       "Flop     3199        50.0\n",
       "Hit      3199        50.0"
      ]
     },
     "execution_count": 5,
     "metadata": {},
     "output_type": "execute_result"
    }
   ],
   "source": [
    "explore_music = pd.DataFrame()\n",
    "explore_music[\"Count\"] = music.groupby(\"target\")[\"track\"].count()\n",
    "explore_music[\"Percentage\"] = 100 * explore_music[\"Count\"]/len(music)\n",
    "explore_music"
   ]
  },
  {
   "attachments": {},
   "cell_type": "markdown",
   "metadata": {},
   "source": [
    "## Feature Selection\n",
    "### Exploratory Data Analysis, ANOVA, and Chi Squared Test\n",
    "I would also like to use exploratory data analysis to find relationships between the features and the target variables. We will use boxplots and the ANOVA analysis to determine whether there is enough variation for the feature to be able to predict the target variable."
   ]
  },
  {
   "cell_type": "code",
   "execution_count": 6,
   "metadata": {},
   "outputs": [
    {
     "data": {
      "image/png": "[encoded data removed]",
      "text/plain": [
       "<Figure size 640x480 with 1 Axes>"
      ]
     },
     "metadata": {},
     "output_type": "display_data"
    }
   ],
   "source": [
    "import seaborn as sns\n",
    "sns.set_theme(style=\"ticks\", palette=\"pastel\")\n",
    "sns.boxplot(x=\"target\", y=\"danceability\",\n",
    "            palette=[\"m\", \"g\"],\n",
    "            data=music)\n",
    "sns.despine(offset=10, trim=True)"
   ]
  },
  {
   "cell_type": "code",
   "execution_count": 7,
   "metadata": {},
   "outputs": [],
   "source": [
    "dancehit = music.loc[\n",
    "    music[\"target\"] == \"Hit\", [\"target\", \"danceability\"]\n",
    "]\n",
    "danceflop = music.loc[\n",
    "    music[\"target\"] == \"Flop\", [\"target\", \"danceability\"]\n",
    "]"
   ]
  },
  {
   "cell_type": "code",
   "execution_count": 8,
   "metadata": {},
   "outputs": [
    {
     "data": {
      "text/plain": [
       "F_onewayResult(statistic=1109.5416727163974, pvalue=1.726517935352893e-224)"
      ]
     },
     "execution_count": 8,
     "metadata": {},
     "output_type": "execute_result"
    }
   ],
   "source": [
    "# From: https://www.geeksforgeeks.org/how-to-perform-a-one-way-anova-in-python/\n",
    "# Importing library\n",
    "from scipy.stats import f_oneway\n",
    " \n",
    "# Compare Hit vs. Flop distributions\n",
    "dance_hit_dist = list(dancehit.danceability)\n",
    "dance_flop_dist = list(danceflop.danceability)\n",
    "\n",
    " \n",
    "# Conduct the one-way ANOVA\n",
    "f_oneway(dance_hit_dist, dance_flop_dist)"
   ]
  },
  {
   "attachments": {},
   "cell_type": "markdown",
   "metadata": {},
   "source": [
    "Since the p-value < 0.05, this indicates that danceability is a possible feature for our model."
   ]
  },
  {
   "cell_type": "code",
   "execution_count": 9,
   "metadata": {},
   "outputs": [
    {
     "data": {
      "image/png": "[encoded data removed]",
      "text/plain": [
       "<Figure size 640x480 with 1 Axes>"
      ]
     },
     "metadata": {},
     "output_type": "display_data"
    }
   ],
   "source": [
    "sns.set_theme(style=\"ticks\", palette=\"pastel\")\n",
    "sns.boxplot(x=\"target\", y=\"energy\",\n",
    "            palette=[\"m\", \"g\"],\n",
    "            data=music)\n",
    "sns.despine(offset=10, trim=True)"
   ]
  },
  {
   "cell_type": "code",
   "execution_count": 10,
   "metadata": {},
   "outputs": [],
   "source": [
    "energyhit = music.loc[\n",
    "    music[\"target\"] == \"Hit\", [\"target\", \"energy\"]\n",
    "]\n",
    "energyflop = music.loc[\n",
    "    music[\"target\"] == \"Flop\", [\"target\", \"energy\"]\n",
    "]"
   ]
  },
  {
   "cell_type": "code",
   "execution_count": 11,
   "metadata": {},
   "outputs": [
    {
     "data": {
      "text/plain": [
       "F_onewayResult(statistic=23.653739874859664, pvalue=1.1807930832105677e-06)"
      ]
     },
     "execution_count": 11,
     "metadata": {},
     "output_type": "execute_result"
    }
   ],
   "source": [
    "# Importing library\n",
    "from scipy.stats import f_oneway\n",
    " \n",
    "# Compare Hit vs. Flop distributions\n",
    "energy_hit_dist = list(energyhit.energy)\n",
    "energy_flop_dist = list(energyflop.energy)\n",
    "\n",
    " \n",
    "# Conduct the one-way ANOVA\n",
    "f_oneway(energy_hit_dist, energy_flop_dist)"
   ]
  },
  {
   "attachments": {},
   "cell_type": "markdown",
   "metadata": {},
   "source": [
    "Since the p-value < 0.05, this indicates that energy is a possible feature for our model."
   ]
  },
  {
   "cell_type": "code",
   "execution_count": 12,
   "metadata": {},
   "outputs": [
    {
     "data": {
      "image/png": "[encoded data removed]",
      "text/plain": [
       "<Figure size 640x480 with 1 Axes>"
      ]
     },
     "metadata": {},
     "output_type": "display_data"
    }
   ],
   "source": [
    "sns.set_theme(style=\"ticks\", palette=\"pastel\")\n",
    "sns.boxplot(x=\"target\", y=\"key\",\n",
    "            palette=[\"m\", \"g\"],\n",
    "            data=music)\n",
    "sns.despine(offset=10, trim=True)"
   ]
  },
  {
   "cell_type": "code",
   "execution_count": 13,
   "metadata": {},
   "outputs": [],
   "source": [
    "keyhit = music.loc[\n",
    "    music[\"target\"] == \"Hit\", [\"target\", \"key\"]\n",
    "]\n",
    "keyflop = music.loc[\n",
    "    music[\"target\"] == \"Flop\", [\"target\", \"key\"]\n",
    "]"
   ]
  },
  {
   "cell_type": "code",
   "execution_count": 14,
   "metadata": {},
   "outputs": [
    {
     "data": {
      "text/plain": [
       "F_onewayResult(statistic=0.1968872592737577, pvalue=0.6572601893888587)"
      ]
     },
     "execution_count": 14,
     "metadata": {},
     "output_type": "execute_result"
    }
   ],
   "source": [
    "# Importing library\n",
    "from scipy.stats import f_oneway\n",
    " \n",
    "# Compare Hit vs. Flop distributions\n",
    "key_hit_dist = list(keyhit.key)\n",
    "key_flop_dist = list(keyflop.key)\n",
    "\n",
    " \n",
    "# Conduct the one-way ANOVA\n",
    "f_oneway(key_hit_dist, key_flop_dist)"
   ]
  },
  {
   "attachments": {},
   "cell_type": "markdown",
   "metadata": {},
   "source": [
    "Since the p-value > 0.05, this indicates that the key of the song should not be considered as a feature in the model. However, since key is a categorical feataure, we should perform the chi-squared test as well (shown later in this notebook)."
   ]
  },
  {
   "cell_type": "code",
   "execution_count": 15,
   "metadata": {},
   "outputs": [
    {
     "data": {
      "image/png": "[encoded data removed]",
      "text/plain": [
       "<Figure size 640x480 with 1 Axes>"
      ]
     },
     "metadata": {},
     "output_type": "display_data"
    }
   ],
   "source": [
    "sns.set_theme(style=\"ticks\", palette=\"pastel\")\n",
    "sns.boxplot(x=\"target\", y=\"loudness\",\n",
    "            palette=[\"m\", \"g\"],\n",
    "            data=music)\n",
    "sns.despine(offset=10, trim=True)"
   ]
  },
  {
   "cell_type": "code",
   "execution_count": 16,
   "metadata": {},
   "outputs": [],
   "source": [
    "loudhit = music.loc[\n",
    "    music[\"target\"] == \"Hit\", [\"target\", \"loudness\"]\n",
    "]\n",
    "loudflop = music.loc[\n",
    "    music[\"target\"] == \"Flop\", [\"target\", \"loudness\"]\n",
    "]"
   ]
  },
  {
   "cell_type": "code",
   "execution_count": 17,
   "metadata": {},
   "outputs": [
    {
     "data": {
      "text/plain": [
       "F_onewayResult(statistic=768.2778663284391, pvalue=8.651026989392484e-160)"
      ]
     },
     "execution_count": 17,
     "metadata": {},
     "output_type": "execute_result"
    }
   ],
   "source": [
    "# Importing library\n",
    "from scipy.stats import f_oneway\n",
    " \n",
    "# Compare Hit vs. Flop distributions\n",
    "loud_hit_dist = list(loudhit.loudness)\n",
    "loud_flop_dist = list(loudflop.loudness)\n",
    "\n",
    " \n",
    "# Conduct the one-way ANOVA\n",
    "f_oneway(loud_hit_dist, loud_flop_dist)"
   ]
  },
  {
   "attachments": {},
   "cell_type": "markdown",
   "metadata": {},
   "source": [
    "Since the p-value < 0.05, this indicates that loudness is a possible feature for our model."
   ]
  },
  {
   "cell_type": "code",
   "execution_count": 18,
   "metadata": {},
   "outputs": [
    {
     "data": {
      "image/png": "[encoded data removed]",
      "text/plain": [
       "<Figure size 640x480 with 1 Axes>"
      ]
     },
     "metadata": {},
     "output_type": "display_data"
    }
   ],
   "source": [
    "sns.set_theme(style=\"ticks\", palette=\"pastel\")\n",
    "sns.boxplot(x=\"target\", y=\"mode\",\n",
    "            palette=[\"m\", \"g\"],\n",
    "            data=music)\n",
    "sns.despine(offset=10, trim=True)"
   ]
  },
  {
   "cell_type": "code",
   "execution_count": 19,
   "metadata": {},
   "outputs": [],
   "source": [
    "modehit = music.loc[\n",
    "    music[\"target\"] == \"Hit\", [\"target\", \"mode\"]\n",
    "]\n",
    "modeflop = music.loc[\n",
    "    music[\"target\"] == \"Flop\", [\"target\", \"mode\"]\n",
    "]\n"
   ]
  },
  {
   "cell_type": "code",
   "execution_count": 20,
   "metadata": {},
   "outputs": [
    {
     "data": {
      "text/html": [
       "<div>\n",
       "<style scoped>\n",
       "    .dataframe tbody tr th:only-of-type {\n",
       "        vertical-align: middle;\n",
       "    }\n",
       "\n",
       "    .dataframe tbody tr th {\n",
       "        vertical-align: top;\n",
       "    }\n",
       "\n",
       "    .dataframe thead th {\n",
       "        text-align: right;\n",
       "    }\n",
       "</style>\n",
       "<table border=\"1\" class=\"dataframe\">\n",
       "  <thead>\n",
       "    <tr style=\"text-align: right;\">\n",
       "      <th></th>\n",
       "      <th></th>\n",
       "      <th>Count</th>\n",
       "      <th>Percentage</th>\n",
       "    </tr>\n",
       "    <tr>\n",
       "      <th>mode</th>\n",
       "      <th>target</th>\n",
       "      <th></th>\n",
       "      <th></th>\n",
       "    </tr>\n",
       "  </thead>\n",
       "  <tbody>\n",
       "    <tr>\n",
       "      <th rowspan=\"2\" valign=\"top\">0</th>\n",
       "      <th>Flop</th>\n",
       "      <td>1183</td>\n",
       "      <td>18.490153</td>\n",
       "    </tr>\n",
       "    <tr>\n",
       "      <th>Hit</th>\n",
       "      <td>1085</td>\n",
       "      <td>16.958425</td>\n",
       "    </tr>\n",
       "    <tr>\n",
       "      <th rowspan=\"2\" valign=\"top\">1</th>\n",
       "      <th>Flop</th>\n",
       "      <td>2016</td>\n",
       "      <td>31.509847</td>\n",
       "    </tr>\n",
       "    <tr>\n",
       "      <th>Hit</th>\n",
       "      <td>2114</td>\n",
       "      <td>33.041575</td>\n",
       "    </tr>\n",
       "  </tbody>\n",
       "</table>\n",
       "</div>"
      ],
      "text/plain": [
       "             Count  Percentage\n",
       "mode target                   \n",
       "0    Flop     1183   18.490153\n",
       "     Hit      1085   16.958425\n",
       "1    Flop     2016   31.509847\n",
       "     Hit      2114   33.041575"
      ]
     },
     "execution_count": 20,
     "metadata": {},
     "output_type": "execute_result"
    }
   ],
   "source": [
    "mode_explore = pd.DataFrame()\n",
    "mode_explore[\"Count\"] = music.groupby([\"mode\",\"target\"])[\"target\"].count()\n",
    "mode_explore[\"Percentage\"] = 100 * mode_explore[\"Count\"]/len(music)\n",
    "mode_explore"
   ]
  },
  {
   "cell_type": "code",
   "execution_count": 21,
   "metadata": {},
   "outputs": [
    {
     "data": {
      "text/plain": [
       "array([0, 0, 0, ..., 1, 1, 0])"
      ]
     },
     "execution_count": 21,
     "metadata": {},
     "output_type": "execute_result"
    }
   ],
   "source": [
    "import numpy\n",
    "numpy.array(music_selection[\"mode\"])"
   ]
  },
  {
   "attachments": {},
   "cell_type": "markdown",
   "metadata": {},
   "source": [
    "We are unable to perform ANOVA on the mode of the songs. However, we will perform the chi-squared test later in this notebook since mode is a categorical variable."
   ]
  },
  {
   "cell_type": "code",
   "execution_count": 22,
   "metadata": {},
   "outputs": [
    {
     "data": {
      "image/png": "[encoded data removed]",
      "text/plain": [
       "<Figure size 640x480 with 1 Axes>"
      ]
     },
     "metadata": {},
     "output_type": "display_data"
    }
   ],
   "source": [
    "sns.set_theme(style=\"ticks\", palette=\"pastel\")\n",
    "sns.boxplot(x=\"target\", y=\"speechiness\",\n",
    "            hue=\"target\", palette=[\"m\", \"g\"],\n",
    "            data=music)\n",
    "sns.despine(offset=10, trim=True)"
   ]
  },
  {
   "cell_type": "code",
   "execution_count": 23,
   "metadata": {},
   "outputs": [],
   "source": [
    "speechhit = music.loc[\n",
    "    music[\"target\"] == \"Hit\", [\"target\", \"speechiness\"]\n",
    "]\n",
    "speechflop = music.loc[\n",
    "    music[\"target\"] == \"Flop\", [\"target\", \"speechiness\"]\n",
    "]"
   ]
  },
  {
   "cell_type": "code",
   "execution_count": 24,
   "metadata": {},
   "outputs": [
    {
     "data": {
      "text/plain": [
       "F_onewayResult(statistic=61.74522672351272, pvalue=4.554479405525479e-15)"
      ]
     },
     "execution_count": 24,
     "metadata": {},
     "output_type": "execute_result"
    }
   ],
   "source": [
    "# Importing library\n",
    "from scipy.stats import f_oneway\n",
    " \n",
    "# Compare Hit vs. Flop distributions\n",
    "speech_hit_dist = list(speechhit.speechiness)\n",
    "speech_flop_dist = list(speechflop.speechiness)\n",
    "\n",
    " \n",
    "# Conduct the one-way ANOVA\n",
    "f_oneway(speech_hit_dist, speech_flop_dist)"
   ]
  },
  {
   "attachments": {},
   "cell_type": "markdown",
   "metadata": {},
   "source": [
    "Since the p-value < 0.05, this indicates that speechiness is a possible feature for our model."
   ]
  },
  {
   "cell_type": "code",
   "execution_count": 25,
   "metadata": {},
   "outputs": [
    {
     "data": {
      "image/png": "[encoded data removed]",
      "text/plain": [
       "<Figure size 640x480 with 1 Axes>"
      ]
     },
     "metadata": {},
     "output_type": "display_data"
    }
   ],
   "source": [
    "sns.set_theme(style=\"ticks\", palette=\"pastel\")\n",
    "sns.boxplot(x=\"target\", y=\"acousticness\",\n",
    "            palette=[\"m\", \"g\"],\n",
    "            data=music)\n",
    "sns.despine(offset=10, trim=True)"
   ]
  },
  {
   "cell_type": "code",
   "execution_count": 26,
   "metadata": {},
   "outputs": [],
   "source": [
    "acoustichit = music.loc[\n",
    "    music[\"target\"] == \"Hit\", [\"target\", \"acousticness\"]\n",
    "]\n",
    "acousticflop = music.loc[\n",
    "    music[\"target\"] == \"Flop\", [\"target\", \"acousticness\"]\n",
    "]"
   ]
  },
  {
   "cell_type": "code",
   "execution_count": 27,
   "metadata": {},
   "outputs": [
    {
     "data": {
      "text/plain": [
       "F_onewayResult(statistic=225.34179232387768, pvalue=4.375475736145466e-50)"
      ]
     },
     "execution_count": 27,
     "metadata": {},
     "output_type": "execute_result"
    }
   ],
   "source": [
    "# Importing library\n",
    "from scipy.stats import f_oneway\n",
    " \n",
    "# Compare Hit vs. Flop distributions\n",
    "acoustic_hit_dist = list(acoustichit.acousticness)\n",
    "acoustic_flop_dist = list(acousticflop.acousticness)\n",
    "\n",
    " \n",
    "# Conduct the one-way ANOVA\n",
    "f_oneway(acoustic_hit_dist, acoustic_flop_dist)"
   ]
  },
  {
   "attachments": {},
   "cell_type": "markdown",
   "metadata": {},
   "source": [
    "Since the p-value < 0.05, this indicates that acousticness is a possible feature for our model."
   ]
  },
  {
   "cell_type": "code",
   "execution_count": 28,
   "metadata": {},
   "outputs": [
    {
     "data": {
      "image/png": "[encoded data removed]",
      "text/plain": [
       "<Figure size 640x480 with 1 Axes>"
      ]
     },
     "metadata": {},
     "output_type": "display_data"
    }
   ],
   "source": [
    "sns.set_theme(style=\"ticks\", palette=\"pastel\")\n",
    "sns.boxplot(x=\"target\", y=\"instrumentalness\",\n",
    "            palette=[\"m\", \"g\"],\n",
    "            data=music)\n",
    "sns.despine(offset=10, trim=True)"
   ]
  },
  {
   "cell_type": "code",
   "execution_count": 29,
   "metadata": {},
   "outputs": [],
   "source": [
    "instruhit = music.loc[\n",
    "    music[\"target\"] == \"Hit\", [\"target\", \"instrumentalness\"]\n",
    "]\n",
    "instruflop = music.loc[\n",
    "    music[\"target\"] == \"Flop\", [\"target\", \"instrumentalness\"]\n",
    "]"
   ]
  },
  {
   "cell_type": "code",
   "execution_count": 30,
   "metadata": {},
   "outputs": [
    {
     "data": {
      "text/plain": [
       "F_onewayResult(statistic=2127.7290848461903, pvalue=0.0)"
      ]
     },
     "execution_count": 30,
     "metadata": {},
     "output_type": "execute_result"
    }
   ],
   "source": [
    "# Importing library\n",
    "from scipy.stats import f_oneway\n",
    " \n",
    "# Compare Hit vs. Flop distributions\n",
    "instru_hit_dist = list(instruhit.instrumentalness)\n",
    "instru_flop_dist = list(instruflop.instrumentalness)\n",
    "\n",
    " \n",
    "# Conduct the one-way ANOVA\n",
    "f_oneway(instru_hit_dist, instru_flop_dist)"
   ]
  },
  {
   "attachments": {},
   "cell_type": "markdown",
   "metadata": {},
   "source": [
    "Since the p-value < 0.05, this indicates that instrumentalness is a possible feature for our model."
   ]
  },
  {
   "cell_type": "code",
   "execution_count": 31,
   "metadata": {},
   "outputs": [
    {
     "data": {
      "image/png": "[encoded data removed]",
      "text/plain": [
       "<Figure size 640x480 with 1 Axes>"
      ]
     },
     "metadata": {},
     "output_type": "display_data"
    }
   ],
   "source": [
    "sns.set_theme(style=\"ticks\", palette=\"pastel\")\n",
    "sns.boxplot(x=\"target\", y=\"liveness\",\n",
    "            palette=[\"m\", \"g\"],\n",
    "            data=music)\n",
    "sns.despine(offset=10, trim=True)"
   ]
  },
  {
   "cell_type": "code",
   "execution_count": 32,
   "metadata": {},
   "outputs": [],
   "source": [
    "livehit = music.loc[\n",
    "    music[\"target\"] == \"Hit\", [\"target\", \"liveness\"]\n",
    "]\n",
    "liveflop = music.loc[\n",
    "    music[\"target\"] == \"Flop\", [\"target\", \"liveness\"]\n",
    "]"
   ]
  },
  {
   "cell_type": "code",
   "execution_count": 33,
   "metadata": {},
   "outputs": [
    {
     "data": {
      "text/plain": [
       "F_onewayResult(statistic=25.17284696466066, pvalue=5.382999030442041e-07)"
      ]
     },
     "execution_count": 33,
     "metadata": {},
     "output_type": "execute_result"
    }
   ],
   "source": [
    "# Importing library\n",
    "from scipy.stats import f_oneway\n",
    " \n",
    "# Compare Hit vs. Flop distributions\n",
    "live_hit_dist = list(livehit.liveness)\n",
    "live_flop_dist = list(liveflop.liveness)\n",
    "\n",
    " \n",
    "# Conduct the one-way ANOVA\n",
    "f_oneway(live_hit_dist, live_flop_dist)"
   ]
  },
  {
   "attachments": {},
   "cell_type": "markdown",
   "metadata": {},
   "source": [
    "Since the p-value < 0.05, this indicates that liveness is a possible feature for our model."
   ]
  },
  {
   "cell_type": "code",
   "execution_count": 34,
   "metadata": {},
   "outputs": [
    {
     "data": {
      "image/png": "[encoded data removed]",
      "text/plain": [
       "<Figure size 640x480 with 1 Axes>"
      ]
     },
     "metadata": {},
     "output_type": "display_data"
    }
   ],
   "source": [
    "sns.set_theme(style=\"ticks\", palette=\"pastel\")\n",
    "sns.boxplot(x=\"target\", y=\"valence\",\n",
    "            palette=[\"m\", \"g\"],\n",
    "            data=music)\n",
    "sns.despine(offset=10, trim=True)"
   ]
  },
  {
   "cell_type": "code",
   "execution_count": 35,
   "metadata": {},
   "outputs": [],
   "source": [
    "valhit = music.loc[\n",
    "    music[\"target\"] == \"Hit\", [\"target\", \"valence\"]\n",
    "]\n",
    "valflop = music.loc[\n",
    "    music[\"target\"] == \"Flop\", [\"target\", \"valence\"]\n",
    "]"
   ]
  },
  {
   "cell_type": "code",
   "execution_count": 36,
   "metadata": {},
   "outputs": [
    {
     "data": {
      "text/plain": [
       "F_onewayResult(statistic=277.0917307681701, pvalue=6.101795088838142e-61)"
      ]
     },
     "execution_count": 36,
     "metadata": {},
     "output_type": "execute_result"
    }
   ],
   "source": [
    "# Importing library\n",
    "from scipy.stats import f_oneway\n",
    " \n",
    "# Compare Hit vs. Flop distributions\n",
    "val_hit_dist = list(valhit.valence)\n",
    "val_flop_dist = list(valflop.valence)\n",
    "\n",
    " \n",
    "# Conduct the one-way ANOVA\n",
    "f_oneway(val_hit_dist, val_flop_dist)"
   ]
  },
  {
   "attachments": {},
   "cell_type": "markdown",
   "metadata": {},
   "source": [
    "Since the p-value < 0.05, this indicates that valence is a possible feature for our model."
   ]
  },
  {
   "cell_type": "code",
   "execution_count": 37,
   "metadata": {},
   "outputs": [
    {
     "data": {
      "image/png": "[encoded data removed]",
      "text/plain": [
       "<Figure size 640x480 with 1 Axes>"
      ]
     },
     "metadata": {},
     "output_type": "display_data"
    }
   ],
   "source": [
    "sns.set_theme(style=\"ticks\", palette=\"pastel\")\n",
    "sns.boxplot(x=\"target\", y=\"tempo\",\n",
    "            palette=[\"m\", \"g\"],\n",
    "            data=music)\n",
    "sns.despine(offset=10, trim=True)"
   ]
  },
  {
   "cell_type": "code",
   "execution_count": 38,
   "metadata": {},
   "outputs": [],
   "source": [
    "tempohit = music.loc[\n",
    "    music[\"target\"] == \"Hit\", [\"target\", \"tempo\"]\n",
    "]\n",
    "tempoflop = music.loc[\n",
    "    music[\"target\"] == \"Flop\", [\"target\", \"tempo\"]\n",
    "]"
   ]
  },
  {
   "cell_type": "code",
   "execution_count": 39,
   "metadata": {},
   "outputs": [
    {
     "data": {
      "text/plain": [
       "F_onewayResult(statistic=9.856600920457995, pvalue=0.0016999393952096121)"
      ]
     },
     "execution_count": 39,
     "metadata": {},
     "output_type": "execute_result"
    }
   ],
   "source": [
    "# Importing library\n",
    "from scipy.stats import f_oneway\n",
    " \n",
    "# Compare Hit vs. Flop distributions\n",
    "tempo_hit_dist = list(tempohit.tempo)\n",
    "tempo_flop_dist = list(tempoflop.tempo)\n",
    "\n",
    " \n",
    "# Conduct the one-way ANOVA\n",
    "f_oneway(tempo_hit_dist, tempo_flop_dist)"
   ]
  },
  {
   "attachments": {},
   "cell_type": "markdown",
   "metadata": {},
   "source": [
    "Since the p-value < 0.05, this indicates that tempo is a possible feature for our model."
   ]
  },
  {
   "cell_type": "code",
   "execution_count": 40,
   "metadata": {},
   "outputs": [
    {
     "data": {
      "image/png": "[encoded data removed]",
      "text/plain": [
       "<Figure size 640x480 with 1 Axes>"
      ]
     },
     "metadata": {},
     "output_type": "display_data"
    }
   ],
   "source": [
    "sns.set_theme(style=\"ticks\", palette=\"pastel\")\n",
    "sns.boxplot(x=\"target\", y=\"duration_ms\",\n",
    "            palette=[\"m\", \"g\"],\n",
    "            data=music)\n",
    "sns.despine(offset=10, trim=True)"
   ]
  },
  {
   "cell_type": "code",
   "execution_count": 41,
   "metadata": {},
   "outputs": [],
   "source": [
    "durhit = music.loc[\n",
    "    music[\"target\"] == \"Hit\", [\"target\", \"duration_ms\"]\n",
    "]\n",
    "durflop = music.loc[\n",
    "    music[\"target\"] == \"Flop\", [\"target\", \"duration_ms\"]\n",
    "]"
   ]
  },
  {
   "cell_type": "code",
   "execution_count": 42,
   "metadata": {},
   "outputs": [
    {
     "data": {
      "text/plain": [
       "F_onewayResult(statistic=237.46438208908933, pvalue=1.229321480745577e-52)"
      ]
     },
     "execution_count": 42,
     "metadata": {},
     "output_type": "execute_result"
    }
   ],
   "source": [
    "# Importing library\n",
    "from scipy.stats import f_oneway\n",
    " \n",
    "# Compare Hit vs. Flop distributions\n",
    "dur_hit_dist = list(durhit.duration_ms)\n",
    "dur_flop_dist = list(durflop.duration_ms)\n",
    "\n",
    " \n",
    "# Conduct the one-way ANOVA\n",
    "f_oneway(dur_hit_dist, dur_flop_dist)"
   ]
  },
  {
   "attachments": {},
   "cell_type": "markdown",
   "metadata": {},
   "source": [
    "Since the p-value < 0.05, this indicates that song duration is a possible feature for our model."
   ]
  },
  {
   "cell_type": "code",
   "execution_count": 43,
   "metadata": {},
   "outputs": [
    {
     "data": {
      "image/png": "[encoded data removed]",
      "text/plain": [
       "<Figure size 640x480 with 1 Axes>"
      ]
     },
     "metadata": {},
     "output_type": "display_data"
    }
   ],
   "source": [
    "sns.set_theme(style=\"ticks\", palette=\"pastel\")\n",
    "sns.boxplot(x=\"target\", y=\"time_signature\",\n",
    "            palette=[\"m\", \"g\"],\n",
    "            data=music)\n",
    "sns.despine(offset=10, trim=True)"
   ]
  },
  {
   "cell_type": "code",
   "execution_count": 44,
   "metadata": {},
   "outputs": [],
   "source": [
    "timesighit = music.loc[\n",
    "    music[\"target\"] == \"Hit\", [\"target\", \"time_signature\"]\n",
    "]\n",
    "timesigflop = music.loc[\n",
    "    music[\"target\"] == \"Flop\", [\"target\", \"time_signature\"]\n",
    "]"
   ]
  },
  {
   "cell_type": "code",
   "execution_count": 45,
   "metadata": {},
   "outputs": [
    {
     "data": {
      "text/plain": [
       "F_onewayResult(statistic=105.76662771271509, pvalue=1.2888242486856055e-24)"
      ]
     },
     "execution_count": 45,
     "metadata": {},
     "output_type": "execute_result"
    }
   ],
   "source": [
    "# Importing library\n",
    "from scipy.stats import f_oneway\n",
    " \n",
    "# Compare Hit vs. Flop distributions\n",
    "timesig_hit_dist = list(timesighit.time_signature)\n",
    "timesig_flop_dist = list(timesigflop.time_signature)\n",
    "\n",
    " \n",
    "# Conduct the one-way ANOVA\n",
    "f_oneway(timesig_hit_dist, timesig_flop_dist)"
   ]
  },
  {
   "attachments": {},
   "cell_type": "markdown",
   "metadata": {},
   "source": [
    "Since the p-value < 0.05, this indicates that the song's time signature is a possible feature for our model."
   ]
  },
  {
   "cell_type": "code",
   "execution_count": 46,
   "metadata": {},
   "outputs": [
    {
     "data": {
      "image/png": "[encoded data removed]",
      "text/plain": [
       "<Figure size 640x480 with 1 Axes>"
      ]
     },
     "metadata": {},
     "output_type": "display_data"
    }
   ],
   "source": [
    "sns.set_theme(style=\"ticks\", palette=\"pastel\")\n",
    "sns.boxplot(x=\"target\", y=\"chorus_hit\",\n",
    "            palette=[\"m\", \"g\"],\n",
    "            data=music)\n",
    "sns.despine(offset=10, trim=True)"
   ]
  },
  {
   "cell_type": "code",
   "execution_count": 47,
   "metadata": {},
   "outputs": [],
   "source": [
    "chorushit = music.loc[\n",
    "    music[\"target\"] == \"Hit\", [\"target\", \"chorus_hit\"]\n",
    "]\n",
    "chorusflop = music.loc[\n",
    "    music[\"target\"] == \"Flop\", [\"target\", \"chorus_hit\"]\n",
    "]"
   ]
  },
  {
   "cell_type": "code",
   "execution_count": 48,
   "metadata": {},
   "outputs": [
    {
     "data": {
      "text/plain": [
       "F_onewayResult(statistic=47.19756710616262, pvalue=7.024433454879685e-12)"
      ]
     },
     "execution_count": 48,
     "metadata": {},
     "output_type": "execute_result"
    }
   ],
   "source": [
    "# Importing library\n",
    "from scipy.stats import f_oneway\n",
    " \n",
    "# Compare Hit vs. Flop distributions\n",
    "chorus_hit_dist = list(chorushit.chorus_hit)\n",
    "chorus_flop_dist = list(chorusflop.chorus_hit)\n",
    "\n",
    " \n",
    "# Conduct the one-way ANOVA\n",
    "f_oneway(chorus_hit_dist, chorus_flop_dist)"
   ]
  },
  {
   "attachments": {},
   "cell_type": "markdown",
   "metadata": {},
   "source": [
    "Since the p-value < 0.05, this indicates that the time when the chorus hits is a possible feature for our model."
   ]
  },
  {
   "cell_type": "code",
   "execution_count": 49,
   "metadata": {},
   "outputs": [
    {
     "data": {
      "image/png": "[encoded data removed]",
      "text/plain": [
       "<Figure size 640x480 with 1 Axes>"
      ]
     },
     "metadata": {},
     "output_type": "display_data"
    }
   ],
   "source": [
    "sns.set_theme(style=\"ticks\", palette=\"pastel\")\n",
    "sns.boxplot(x=\"target\", y=\"sections\",\n",
    "            palette=[\"m\", \"g\"],\n",
    "            data=music)\n",
    "sns.despine(offset=10, trim=True)"
   ]
  },
  {
   "cell_type": "code",
   "execution_count": 50,
   "metadata": {},
   "outputs": [],
   "source": [
    "sectionhit = music.loc[\n",
    "    music[\"target\"] == \"Hit\", [\"target\", \"sections\"]\n",
    "]\n",
    "sectionflop = music.loc[\n",
    "    music[\"target\"] == \"Flop\", [\"target\", \"sections\"]\n",
    "]"
   ]
  },
  {
   "cell_type": "code",
   "execution_count": 51,
   "metadata": {},
   "outputs": [
    {
     "data": {
      "text/plain": [
       "F_onewayResult(statistic=83.296132198407, pvalue=9.302428066692014e-20)"
      ]
     },
     "execution_count": 51,
     "metadata": {},
     "output_type": "execute_result"
    }
   ],
   "source": [
    "# Importing library\n",
    "from scipy.stats import f_oneway\n",
    " \n",
    "# Compare Hit vs. Flop distributions\n",
    "section_hit_dist = list(sectionhit.sections)\n",
    "section_flop_dist = list(sectionflop.sections)\n",
    "\n",
    " \n",
    "# Conduct the one-way ANOVA\n",
    "f_oneway(section_hit_dist, section_flop_dist)"
   ]
  },
  {
   "attachments": {},
   "cell_type": "markdown",
   "metadata": {},
   "source": [
    "Since the p-value < 0.05, this indicates that the number of sections the song has is a possible feature for our model."
   ]
  },
  {
   "attachments": {},
   "cell_type": "markdown",
   "metadata": {},
   "source": [
    "### Chi-Squared Test\n",
    "I would like to use the chi-squared test to investigate the relationship between our categorical inputs and outputs, specifically for the song's key and mode."
   ]
  },
  {
   "cell_type": "code",
   "execution_count": 52,
   "metadata": {},
   "outputs": [],
   "source": [
    "key_list = list(music_selection[\"key\"])\n",
    "key_array = numpy.array(key_list)\n",
    "\n",
    "mode_list = list(music_selection[\"mode\"])\n",
    "mode_array = numpy.array(mode_list)\n",
    "\n",
    "target_list = list(music_selection[\"target\"])\n",
    "target_array = numpy.array(target_list)"
   ]
  },
  {
   "cell_type": "code",
   "execution_count": 53,
   "metadata": {},
   "outputs": [
    {
     "data": {
      "text/plain": [
       "(array([0.48467637, 2.32542373]), array([0.48631171, 0.12727556]))"
      ]
     },
     "execution_count": 53,
     "metadata": {},
     "output_type": "execute_result"
    }
   ],
   "source": [
    "#Based on: https://github.com/gsampath127/Feature-Selection/blob/master/FeatureSelection_ChiSquareTest.ipynb\n",
    "\n",
    "from sklearn.feature_selection import chi2\n",
    "\n",
    "\n",
    "X = numpy.array([key_array,mode_array]).T\n",
    "y = target_array\n",
    "\n",
    "chi_scores = chi2(X,y)\n",
    "\n",
    "chi_scores\n",
    "\n",
    "#We want to select features with values less than p = 0.05. The first array represents chi square values whereas the second array represents p-values"
   ]
  },
  {
   "attachments": {},
   "cell_type": "markdown",
   "metadata": {},
   "source": [
    "We want to select features for our model with values that are less than p = 0.05. The first array of results in our output represents the chi-square values, while the second array represents the corresponding p-values for the variables key and mode. Since both p-values for key (0.48631171) and mode (0.12727556) are less than 0.05, this suggests that we should not use these features for our classification model."
   ]
  },
  {
   "attachments": {},
   "cell_type": "markdown",
   "metadata": {},
   "source": [
    "### Forward Feature Selection"
   ]
  },
  {
   "attachments": {},
   "cell_type": "markdown",
   "metadata": {},
   "source": [
    "We will now perform forward selection in order to find the most optimal features to select for our classification model. This process is based on Stats Wire's YouTube video: https://www.youtube.com/watch?v=POCvLGRLDzM"
   ]
  },
  {
   "cell_type": "code",
   "execution_count": 54,
   "metadata": {},
   "outputs": [],
   "source": [
    "from mlxtend.feature_selection import SequentialFeatureSelector\n",
    "url = \"https://raw.githubusercontent.com/fortyTwo102/The-Spotify-Hit-Predictor-Dataset/master/dataset-of-10s.csv\"\n",
    "pd.read_csv(url)\n",
    "music_selection = pd.read_csv(url)"
   ]
  },
  {
   "cell_type": "code",
   "execution_count": 55,
   "metadata": {},
   "outputs": [
    {
     "data": {
      "text/plain": [
       "track               0\n",
       "artist              0\n",
       "uri                 0\n",
       "danceability        0\n",
       "energy              0\n",
       "key                 0\n",
       "loudness            0\n",
       "mode                0\n",
       "speechiness         0\n",
       "acousticness        0\n",
       "instrumentalness    0\n",
       "liveness            0\n",
       "valence             0\n",
       "tempo               0\n",
       "duration_ms         0\n",
       "time_signature      0\n",
       "chorus_hit          0\n",
       "sections            0\n",
       "target              0\n",
       "dtype: int64"
      ]
     },
     "execution_count": 55,
     "metadata": {},
     "output_type": "execute_result"
    }
   ],
   "source": [
    "#Check if there are any missing values\n",
    "music_selection.isnull().sum()"
   ]
  },
  {
   "cell_type": "code",
   "execution_count": 56,
   "metadata": {},
   "outputs": [
    {
     "data": {
      "text/html": [
       "<div>\n",
       "<style scoped>\n",
       "    .dataframe tbody tr th:only-of-type {\n",
       "        vertical-align: middle;\n",
       "    }\n",
       "\n",
       "    .dataframe tbody tr th {\n",
       "        vertical-align: top;\n",
       "    }\n",
       "\n",
       "    .dataframe thead th {\n",
       "        text-align: right;\n",
       "    }\n",
       "</style>\n",
       "<table border=\"1\" class=\"dataframe\">\n",
       "  <thead>\n",
       "    <tr style=\"text-align: right;\">\n",
       "      <th></th>\n",
       "      <th>track</th>\n",
       "      <th>artist</th>\n",
       "      <th>uri</th>\n",
       "      <th>danceability</th>\n",
       "      <th>energy</th>\n",
       "      <th>key</th>\n",
       "      <th>loudness</th>\n",
       "      <th>mode</th>\n",
       "      <th>speechiness</th>\n",
       "      <th>acousticness</th>\n",
       "      <th>instrumentalness</th>\n",
       "      <th>liveness</th>\n",
       "      <th>valence</th>\n",
       "      <th>tempo</th>\n",
       "      <th>duration_ms</th>\n",
       "      <th>time_signature</th>\n",
       "      <th>chorus_hit</th>\n",
       "      <th>sections</th>\n",
       "      <th>target</th>\n",
       "    </tr>\n",
       "  </thead>\n",
       "  <tbody>\n",
       "  </tbody>\n",
       "</table>\n",
       "</div>"
      ],
      "text/plain": [
       "Empty DataFrame\n",
       "Columns: [track, artist, uri, danceability, energy, key, loudness, mode, speechiness, acousticness, instrumentalness, liveness, valence, tempo, duration_ms, time_signature, chorus_hit, sections, target]\n",
       "Index: []"
      ]
     },
     "execution_count": 56,
     "metadata": {},
     "output_type": "execute_result"
    }
   ],
   "source": [
    "#Check if there are any missing values from any row\n",
    "music_selection[music_selection.isnull().any(axis=1)]"
   ]
  },
  {
   "cell_type": "code",
   "execution_count": 57,
   "metadata": {},
   "outputs": [],
   "source": [
    "X = music_selection.iloc[:, 3:17] #Select all rows and numerical features\n",
    "y = music_selection.iloc[:,-1] #Select target features (hit or flop)"
   ]
  },
  {
   "cell_type": "code",
   "execution_count": 58,
   "metadata": {},
   "outputs": [
    {
     "data": {
      "text/html": [
       "<div>\n",
       "<style scoped>\n",
       "    .dataframe tbody tr th:only-of-type {\n",
       "        vertical-align: middle;\n",
       "    }\n",
       "\n",
       "    .dataframe tbody tr th {\n",
       "        vertical-align: top;\n",
       "    }\n",
       "\n",
       "    .dataframe thead th {\n",
       "        text-align: right;\n",
       "    }\n",
       "</style>\n",
       "<table border=\"1\" class=\"dataframe\">\n",
       "  <thead>\n",
       "    <tr style=\"text-align: right;\">\n",
       "      <th></th>\n",
       "      <th>danceability</th>\n",
       "      <th>energy</th>\n",
       "      <th>key</th>\n",
       "      <th>loudness</th>\n",
       "      <th>mode</th>\n",
       "      <th>speechiness</th>\n",
       "      <th>acousticness</th>\n",
       "      <th>instrumentalness</th>\n",
       "      <th>liveness</th>\n",
       "      <th>valence</th>\n",
       "      <th>tempo</th>\n",
       "      <th>duration_ms</th>\n",
       "      <th>time_signature</th>\n",
       "      <th>chorus_hit</th>\n",
       "    </tr>\n",
       "  </thead>\n",
       "  <tbody>\n",
       "    <tr>\n",
       "      <th>0</th>\n",
       "      <td>0.741</td>\n",
       "      <td>0.626</td>\n",
       "      <td>1</td>\n",
       "      <td>-4.826</td>\n",
       "      <td>0</td>\n",
       "      <td>0.0886</td>\n",
       "      <td>0.02000</td>\n",
       "      <td>0.000</td>\n",
       "      <td>0.0828</td>\n",
       "      <td>0.706</td>\n",
       "      <td>108.029</td>\n",
       "      <td>188493</td>\n",
       "      <td>4</td>\n",
       "      <td>41.18681</td>\n",
       "    </tr>\n",
       "    <tr>\n",
       "      <th>1</th>\n",
       "      <td>0.447</td>\n",
       "      <td>0.247</td>\n",
       "      <td>5</td>\n",
       "      <td>-14.661</td>\n",
       "      <td>0</td>\n",
       "      <td>0.0346</td>\n",
       "      <td>0.87100</td>\n",
       "      <td>0.814</td>\n",
       "      <td>0.0946</td>\n",
       "      <td>0.250</td>\n",
       "      <td>155.489</td>\n",
       "      <td>176880</td>\n",
       "      <td>3</td>\n",
       "      <td>33.18083</td>\n",
       "    </tr>\n",
       "    <tr>\n",
       "      <th>2</th>\n",
       "      <td>0.550</td>\n",
       "      <td>0.415</td>\n",
       "      <td>9</td>\n",
       "      <td>-6.557</td>\n",
       "      <td>0</td>\n",
       "      <td>0.0520</td>\n",
       "      <td>0.16100</td>\n",
       "      <td>0.000</td>\n",
       "      <td>0.1080</td>\n",
       "      <td>0.274</td>\n",
       "      <td>172.065</td>\n",
       "      <td>205463</td>\n",
       "      <td>4</td>\n",
       "      <td>44.89147</td>\n",
       "    </tr>\n",
       "    <tr>\n",
       "      <th>3</th>\n",
       "      <td>0.502</td>\n",
       "      <td>0.648</td>\n",
       "      <td>0</td>\n",
       "      <td>-5.698</td>\n",
       "      <td>0</td>\n",
       "      <td>0.0527</td>\n",
       "      <td>0.00513</td>\n",
       "      <td>0.000</td>\n",
       "      <td>0.2040</td>\n",
       "      <td>0.291</td>\n",
       "      <td>91.837</td>\n",
       "      <td>193043</td>\n",
       "      <td>4</td>\n",
       "      <td>29.52521</td>\n",
       "    </tr>\n",
       "    <tr>\n",
       "      <th>4</th>\n",
       "      <td>0.807</td>\n",
       "      <td>0.887</td>\n",
       "      <td>1</td>\n",
       "      <td>-3.892</td>\n",
       "      <td>1</td>\n",
       "      <td>0.2750</td>\n",
       "      <td>0.00381</td>\n",
       "      <td>0.000</td>\n",
       "      <td>0.3910</td>\n",
       "      <td>0.780</td>\n",
       "      <td>160.517</td>\n",
       "      <td>144244</td>\n",
       "      <td>4</td>\n",
       "      <td>24.99199</td>\n",
       "    </tr>\n",
       "  </tbody>\n",
       "</table>\n",
       "</div>"
      ],
      "text/plain": [
       "   danceability  energy  key  loudness  mode  speechiness  acousticness  \\\n",
       "0         0.741   0.626    1    -4.826     0       0.0886       0.02000   \n",
       "1         0.447   0.247    5   -14.661     0       0.0346       0.87100   \n",
       "2         0.550   0.415    9    -6.557     0       0.0520       0.16100   \n",
       "3         0.502   0.648    0    -5.698     0       0.0527       0.00513   \n",
       "4         0.807   0.887    1    -3.892     1       0.2750       0.00381   \n",
       "\n",
       "   instrumentalness  liveness  valence    tempo  duration_ms  time_signature  \\\n",
       "0             0.000    0.0828    0.706  108.029       188493               4   \n",
       "1             0.814    0.0946    0.250  155.489       176880               3   \n",
       "2             0.000    0.1080    0.274  172.065       205463               4   \n",
       "3             0.000    0.2040    0.291   91.837       193043               4   \n",
       "4             0.000    0.3910    0.780  160.517       144244               4   \n",
       "\n",
       "   chorus_hit  \n",
       "0    41.18681  \n",
       "1    33.18083  \n",
       "2    44.89147  \n",
       "3    29.52521  \n",
       "4    24.99199  "
      ]
     },
     "execution_count": 58,
     "metadata": {},
     "output_type": "execute_result"
    }
   ],
   "source": [
    "X.head()"
   ]
  },
  {
   "cell_type": "code",
   "execution_count": 59,
   "metadata": {},
   "outputs": [
    {
     "data": {
      "text/plain": [
       "0       1\n",
       "1       0\n",
       "2       1\n",
       "3       0\n",
       "4       1\n",
       "       ..\n",
       "6393    0\n",
       "6394    1\n",
       "6395    1\n",
       "6396    0\n",
       "6397    0\n",
       "Name: target, Length: 6398, dtype: int64"
      ]
     },
     "execution_count": 59,
     "metadata": {},
     "output_type": "execute_result"
    }
   ],
   "source": [
    "y"
   ]
  },
  {
   "cell_type": "code",
   "execution_count": 60,
   "metadata": {},
   "outputs": [],
   "source": [
    "from sklearn.model_selection import train_test_split\n",
    "X_train, X_test, y_train, y_test = train_test_split(X, y, test_size = 0.3, random_state = 100) #Size of test split is 30% of dataset, random_state is used to control the shuffling applied to the data before the split (any int)\n"
   ]
  },
  {
   "cell_type": "code",
   "execution_count": 61,
   "metadata": {},
   "outputs": [],
   "source": [
    "from sklearn.neighbors import KNeighborsClassifier"
   ]
  },
  {
   "cell_type": "code",
   "execution_count": 62,
   "metadata": {},
   "outputs": [
    {
     "name": "stderr",
     "output_type": "stream",
     "text": [
      "\n",
      "[2023-07-30 20:38:37] Features: 1/14 -- score: 0.7110552174780527\n",
      "[2023-07-30 20:38:39] Features: 2/14 -- score: 0.7713310554668794\n",
      "[2023-07-30 20:38:41] Features: 3/14 -- score: 0.7711038507581804\n",
      "[2023-07-30 20:38:42] Features: 4/14 -- score: 0.7731115323224261\n",
      "[2023-07-30 20:38:43] Features: 5/14 -- score: 0.7795844972067039\n",
      "[2023-07-30 20:38:45] Features: 6/14 -- score: 0.7849463786911413\n",
      "[2023-07-30 20:38:46] Features: 7/14 -- score: 0.7860634477254589\n",
      "[2023-07-30 20:38:47] Features: 8/14 -- score: 0.7831631584197923\n",
      "[2023-07-30 20:38:48] Features: 9/14 -- score: 0.7860614525139664\n",
      "[2023-07-30 20:38:48] Features: 10/14 -- score: 0.7664133579409417\n",
      "[2023-07-30 20:38:49] Features: 11/14 -- score: 0.7170620510774142\n",
      "[2023-07-30 20:38:49] Features: 12/14 -- score: 0.6469405925778132\n",
      "[2023-07-30 20:38:49] Features: 13/14 -- score: 0.6076371707901038\n",
      "[2023-07-30 20:38:50] Features: 14/14 -- score: 0.6098703112529928"
     ]
    }
   ],
   "source": [
    "forward_feature_selection = SequentialFeatureSelector(KNeighborsClassifier(n_jobs = -1), \n",
    "                                                      k_features = (1,14), \n",
    "                                                      forward = True, \n",
    "                                                      verbose = 2, \n",
    "                                                      scoring = \"accuracy\",\n",
    "                                                      cv = 5).fit(X_train, y_train)"
   ]
  },
  {
   "cell_type": "code",
   "execution_count": 63,
   "metadata": {},
   "outputs": [
    {
     "data": {
      "text/plain": [
       "('danceability',\n",
       " 'energy',\n",
       " 'loudness',\n",
       " 'speechiness',\n",
       " 'instrumentalness',\n",
       " 'valence',\n",
       " 'time_signature')"
      ]
     },
     "execution_count": 63,
     "metadata": {},
     "output_type": "execute_result"
    }
   ],
   "source": [
    "forward_feature_selection.k_feature_names_"
   ]
  },
  {
   "cell_type": "code",
   "execution_count": 64,
   "metadata": {},
   "outputs": [
    {
     "data": {
      "text/plain": [
       "0.7860634477254589"
      ]
     },
     "execution_count": 64,
     "metadata": {},
     "output_type": "execute_result"
    }
   ],
   "source": [
    "forward_feature_selection.k_score_"
   ]
  },
  {
   "cell_type": "code",
   "execution_count": 65,
   "metadata": {},
   "outputs": [
    {
     "data": {
      "text/html": [
       "<div>\n",
       "<style scoped>\n",
       "    .dataframe tbody tr th:only-of-type {\n",
       "        vertical-align: middle;\n",
       "    }\n",
       "\n",
       "    .dataframe tbody tr th {\n",
       "        vertical-align: top;\n",
       "    }\n",
       "\n",
       "    .dataframe thead th {\n",
       "        text-align: right;\n",
       "    }\n",
       "</style>\n",
       "<table border=\"1\" class=\"dataframe\">\n",
       "  <thead>\n",
       "    <tr style=\"text-align: right;\">\n",
       "      <th></th>\n",
       "      <th>feature_idx</th>\n",
       "      <th>cv_scores</th>\n",
       "      <th>avg_score</th>\n",
       "      <th>feature_names</th>\n",
       "      <th>ci_bound</th>\n",
       "      <th>std_dev</th>\n",
       "      <th>std_err</th>\n",
       "    </tr>\n",
       "  </thead>\n",
       "  <tbody>\n",
       "    <tr>\n",
       "      <th>1</th>\n",
       "      <td>(7,)</td>\n",
       "      <td>[0.5234375, 0.7421875, 0.7622767857142857, 0.7...</td>\n",
       "      <td>0.711055</td>\n",
       "      <td>(instrumentalness,)</td>\n",
       "      <td>0.121028</td>\n",
       "      <td>0.094164</td>\n",
       "      <td>0.047082</td>\n",
       "    </tr>\n",
       "    <tr>\n",
       "      <th>2</th>\n",
       "      <td>(1, 7)</td>\n",
       "      <td>[0.7622767857142857, 0.7555803571428571, 0.775...</td>\n",
       "      <td>0.771331</td>\n",
       "      <td>(energy, instrumentalness)</td>\n",
       "      <td>0.015194</td>\n",
       "      <td>0.011822</td>\n",
       "      <td>0.005911</td>\n",
       "    </tr>\n",
       "    <tr>\n",
       "      <th>3</th>\n",
       "      <td>(1, 7, 12)</td>\n",
       "      <td>[0.7700892857142857, 0.7622767857142857, 0.777...</td>\n",
       "      <td>0.771104</td>\n",
       "      <td>(energy, instrumentalness, time_signature)</td>\n",
       "      <td>0.014708</td>\n",
       "      <td>0.011443</td>\n",
       "      <td>0.005722</td>\n",
       "    </tr>\n",
       "    <tr>\n",
       "      <th>4</th>\n",
       "      <td>(1, 3, 7, 12)</td>\n",
       "      <td>[0.7645089285714286, 0.7734375, 0.787946428571...</td>\n",
       "      <td>0.773112</td>\n",
       "      <td>(energy, loudness, instrumentalness, time_sign...</td>\n",
       "      <td>0.010213</td>\n",
       "      <td>0.007946</td>\n",
       "      <td>0.003973</td>\n",
       "    </tr>\n",
       "    <tr>\n",
       "      <th>5</th>\n",
       "      <td>(0, 1, 3, 7, 12)</td>\n",
       "      <td>[0.7823660714285714, 0.7779017857142857, 0.799...</td>\n",
       "      <td>0.779584</td>\n",
       "      <td>(danceability, energy, loudness, instrumentaln...</td>\n",
       "      <td>0.014138</td>\n",
       "      <td>0.011</td>\n",
       "      <td>0.0055</td>\n",
       "    </tr>\n",
       "    <tr>\n",
       "      <th>6</th>\n",
       "      <td>(0, 1, 3, 7, 9, 12)</td>\n",
       "      <td>[0.7879464285714286, 0.7912946428571429, 0.785...</td>\n",
       "      <td>0.784946</td>\n",
       "      <td>(danceability, energy, loudness, instrumentaln...</td>\n",
       "      <td>0.006057</td>\n",
       "      <td>0.004713</td>\n",
       "      <td>0.002356</td>\n",
       "    </tr>\n",
       "    <tr>\n",
       "      <th>7</th>\n",
       "      <td>(0, 1, 3, 5, 7, 9, 12)</td>\n",
       "      <td>[0.7890625, 0.7834821428571429, 0.793526785714...</td>\n",
       "      <td>0.786063</td>\n",
       "      <td>(danceability, energy, loudness, speechiness, ...</td>\n",
       "      <td>0.006424</td>\n",
       "      <td>0.004998</td>\n",
       "      <td>0.002499</td>\n",
       "    </tr>\n",
       "    <tr>\n",
       "      <th>8</th>\n",
       "      <td>(0, 1, 3, 5, 7, 8, 9, 12)</td>\n",
       "      <td>[0.7756696428571429, 0.78125, 0.78794642857142...</td>\n",
       "      <td>0.783163</td>\n",
       "      <td>(danceability, energy, loudness, speechiness, ...</td>\n",
       "      <td>0.006187</td>\n",
       "      <td>0.004814</td>\n",
       "      <td>0.002407</td>\n",
       "    </tr>\n",
       "    <tr>\n",
       "      <th>9</th>\n",
       "      <td>(0, 1, 3, 5, 6, 7, 8, 9, 12)</td>\n",
       "      <td>[0.78125, 0.7879464285714286, 0.80580357142857...</td>\n",
       "      <td>0.786061</td>\n",
       "      <td>(danceability, energy, loudness, speechiness, ...</td>\n",
       "      <td>0.014054</td>\n",
       "      <td>0.010934</td>\n",
       "      <td>0.005467</td>\n",
       "    </tr>\n",
       "    <tr>\n",
       "      <th>10</th>\n",
       "      <td>(0, 1, 3, 4, 5, 6, 7, 8, 9, 12)</td>\n",
       "      <td>[0.7433035714285714, 0.7712053571428571, 0.785...</td>\n",
       "      <td>0.766413</td>\n",
       "      <td>(danceability, energy, loudness, mode, speechi...</td>\n",
       "      <td>0.017535</td>\n",
       "      <td>0.013643</td>\n",
       "      <td>0.006822</td>\n",
       "    </tr>\n",
       "    <tr>\n",
       "      <th>11</th>\n",
       "      <td>(0, 1, 2, 3, 4, 5, 6, 7, 8, 9, 12)</td>\n",
       "      <td>[0.7142857142857143, 0.7165178571428571, 0.716...</td>\n",
       "      <td>0.717062</td>\n",
       "      <td>(danceability, energy, key, loudness, mode, sp...</td>\n",
       "      <td>0.007184</td>\n",
       "      <td>0.00559</td>\n",
       "      <td>0.002795</td>\n",
       "    </tr>\n",
       "    <tr>\n",
       "      <th>12</th>\n",
       "      <td>(0, 1, 2, 3, 4, 5, 6, 7, 8, 9, 10, 12)</td>\n",
       "      <td>[0.625, 0.6573660714285714, 0.6584821428571429...</td>\n",
       "      <td>0.646941</td>\n",
       "      <td>(danceability, energy, key, loudness, mode, sp...</td>\n",
       "      <td>0.016391</td>\n",
       "      <td>0.012753</td>\n",
       "      <td>0.006376</td>\n",
       "    </tr>\n",
       "    <tr>\n",
       "      <th>13</th>\n",
       "      <td>(0, 1, 2, 3, 4, 5, 6, 7, 8, 9, 10, 11, 12)</td>\n",
       "      <td>[0.6082589285714286, 0.609375, 0.6060267857142...</td>\n",
       "      <td>0.607637</td>\n",
       "      <td>(danceability, energy, key, loudness, mode, sp...</td>\n",
       "      <td>0.008748</td>\n",
       "      <td>0.006806</td>\n",
       "      <td>0.003403</td>\n",
       "    </tr>\n",
       "    <tr>\n",
       "      <th>14</th>\n",
       "      <td>(0, 1, 2, 3, 4, 5, 6, 7, 8, 9, 10, 11, 12, 13)</td>\n",
       "      <td>[0.6082589285714286, 0.6138392857142857, 0.608...</td>\n",
       "      <td>0.60987</td>\n",
       "      <td>(danceability, energy, key, loudness, mode, sp...</td>\n",
       "      <td>0.009898</td>\n",
       "      <td>0.007701</td>\n",
       "      <td>0.00385</td>\n",
       "    </tr>\n",
       "  </tbody>\n",
       "</table>\n",
       "</div>"
      ],
      "text/plain": [
       "                                       feature_idx  \\\n",
       "1                                             (7,)   \n",
       "2                                           (1, 7)   \n",
       "3                                       (1, 7, 12)   \n",
       "4                                    (1, 3, 7, 12)   \n",
       "5                                 (0, 1, 3, 7, 12)   \n",
       "6                              (0, 1, 3, 7, 9, 12)   \n",
       "7                           (0, 1, 3, 5, 7, 9, 12)   \n",
       "8                        (0, 1, 3, 5, 7, 8, 9, 12)   \n",
       "9                     (0, 1, 3, 5, 6, 7, 8, 9, 12)   \n",
       "10                 (0, 1, 3, 4, 5, 6, 7, 8, 9, 12)   \n",
       "11              (0, 1, 2, 3, 4, 5, 6, 7, 8, 9, 12)   \n",
       "12          (0, 1, 2, 3, 4, 5, 6, 7, 8, 9, 10, 12)   \n",
       "13      (0, 1, 2, 3, 4, 5, 6, 7, 8, 9, 10, 11, 12)   \n",
       "14  (0, 1, 2, 3, 4, 5, 6, 7, 8, 9, 10, 11, 12, 13)   \n",
       "\n",
       "                                            cv_scores avg_score  \\\n",
       "1   [0.5234375, 0.7421875, 0.7622767857142857, 0.7...  0.711055   \n",
       "2   [0.7622767857142857, 0.7555803571428571, 0.775...  0.771331   \n",
       "3   [0.7700892857142857, 0.7622767857142857, 0.777...  0.771104   \n",
       "4   [0.7645089285714286, 0.7734375, 0.787946428571...  0.773112   \n",
       "5   [0.7823660714285714, 0.7779017857142857, 0.799...  0.779584   \n",
       "6   [0.7879464285714286, 0.7912946428571429, 0.785...  0.784946   \n",
       "7   [0.7890625, 0.7834821428571429, 0.793526785714...  0.786063   \n",
       "8   [0.7756696428571429, 0.78125, 0.78794642857142...  0.783163   \n",
       "9   [0.78125, 0.7879464285714286, 0.80580357142857...  0.786061   \n",
       "10  [0.7433035714285714, 0.7712053571428571, 0.785...  0.766413   \n",
       "11  [0.7142857142857143, 0.7165178571428571, 0.716...  0.717062   \n",
       "12  [0.625, 0.6573660714285714, 0.6584821428571429...  0.646941   \n",
       "13  [0.6082589285714286, 0.609375, 0.6060267857142...  0.607637   \n",
       "14  [0.6082589285714286, 0.6138392857142857, 0.608...   0.60987   \n",
       "\n",
       "                                        feature_names  ci_bound   std_dev  \\\n",
       "1                                 (instrumentalness,)  0.121028  0.094164   \n",
       "2                          (energy, instrumentalness)  0.015194  0.011822   \n",
       "3          (energy, instrumentalness, time_signature)  0.014708  0.011443   \n",
       "4   (energy, loudness, instrumentalness, time_sign...  0.010213  0.007946   \n",
       "5   (danceability, energy, loudness, instrumentaln...  0.014138     0.011   \n",
       "6   (danceability, energy, loudness, instrumentaln...  0.006057  0.004713   \n",
       "7   (danceability, energy, loudness, speechiness, ...  0.006424  0.004998   \n",
       "8   (danceability, energy, loudness, speechiness, ...  0.006187  0.004814   \n",
       "9   (danceability, energy, loudness, speechiness, ...  0.014054  0.010934   \n",
       "10  (danceability, energy, loudness, mode, speechi...  0.017535  0.013643   \n",
       "11  (danceability, energy, key, loudness, mode, sp...  0.007184   0.00559   \n",
       "12  (danceability, energy, key, loudness, mode, sp...  0.016391  0.012753   \n",
       "13  (danceability, energy, key, loudness, mode, sp...  0.008748  0.006806   \n",
       "14  (danceability, energy, key, loudness, mode, sp...  0.009898  0.007701   \n",
       "\n",
       "     std_err  \n",
       "1   0.047082  \n",
       "2   0.005911  \n",
       "3   0.005722  \n",
       "4   0.003973  \n",
       "5     0.0055  \n",
       "6   0.002356  \n",
       "7   0.002499  \n",
       "8   0.002407  \n",
       "9   0.005467  \n",
       "10  0.006822  \n",
       "11  0.002795  \n",
       "12  0.006376  \n",
       "13  0.003403  \n",
       "14   0.00385  "
      ]
     },
     "execution_count": 65,
     "metadata": {},
     "output_type": "execute_result"
    }
   ],
   "source": [
    "pd.DataFrame.from_dict(forward_feature_selection.get_metric_dict()).T"
   ]
  },
  {
   "attachments": {},
   "cell_type": "markdown",
   "metadata": {},
   "source": [
    "Based on forward selection, the most optimal features to include in the K Neighbors Classification model are danceability, energy, loudness, speechiness, instrumentalness, valence, and time signature."
   ]
  },
  {
   "attachments": {},
   "cell_type": "markdown",
   "metadata": {},
   "source": [
    "## Modelling"
   ]
  },
  {
   "cell_type": "code",
   "execution_count": 66,
   "metadata": {},
   "outputs": [],
   "source": [
    "# load packages\n",
    "import altair as alt\n",
    "import pandas as pd\n",
    "import numpy as np\n",
    "\n",
    "# set the seed\n",
    "np.random.seed(1)"
   ]
  },
  {
   "cell_type": "code",
   "execution_count": 67,
   "metadata": {},
   "outputs": [
    {
     "name": "stdout",
     "output_type": "stream",
     "text": [
      "<class 'pandas.core.frame.DataFrame'>\n",
      "Index: 4798 entries, 5826 to 5622\n",
      "Data columns (total 19 columns):\n",
      " #   Column            Non-Null Count  Dtype   \n",
      "---  ------            --------------  -----   \n",
      " 0   track             4798 non-null   object  \n",
      " 1   artist            4798 non-null   object  \n",
      " 2   uri               4798 non-null   object  \n",
      " 3   danceability      4798 non-null   float64 \n",
      " 4   energy            4798 non-null   float64 \n",
      " 5   key               4798 non-null   int64   \n",
      " 6   loudness          4798 non-null   float64 \n",
      " 7   mode              4798 non-null   int64   \n",
      " 8   speechiness       4798 non-null   float64 \n",
      " 9   acousticness      4798 non-null   float64 \n",
      " 10  instrumentalness  4798 non-null   float64 \n",
      " 11  liveness          4798 non-null   float64 \n",
      " 12  valence           4798 non-null   float64 \n",
      " 13  tempo             4798 non-null   float64 \n",
      " 14  duration_ms       4798 non-null   int64   \n",
      " 15  time_signature    4798 non-null   int64   \n",
      " 16  chorus_hit        4798 non-null   float64 \n",
      " 17  sections          4798 non-null   int64   \n",
      " 18  target            4798 non-null   category\n",
      "dtypes: category(1), float64(10), int64(5), object(3)\n",
      "memory usage: 717.0+ KB\n"
     ]
    }
   ],
   "source": [
    "from sklearn.model_selection import train_test_split\n",
    "\n",
    "music_train, music_test = train_test_split(\n",
    "    music, train_size=0.75, stratify=music[\"target\"]\n",
    ")\n",
    "#Stratify is used to ensure that the training and testing subsets contain the right proportions of each category of observation (Hit vs. Flop)\n",
    "music_train.info()"
   ]
  },
  {
   "cell_type": "code",
   "execution_count": 68,
   "metadata": {},
   "outputs": [
    {
     "name": "stdout",
     "output_type": "stream",
     "text": [
      "<class 'pandas.core.frame.DataFrame'>\n",
      "Index: 1600 entries, 202 to 932\n",
      "Data columns (total 19 columns):\n",
      " #   Column            Non-Null Count  Dtype   \n",
      "---  ------            --------------  -----   \n",
      " 0   track             1600 non-null   object  \n",
      " 1   artist            1600 non-null   object  \n",
      " 2   uri               1600 non-null   object  \n",
      " 3   danceability      1600 non-null   float64 \n",
      " 4   energy            1600 non-null   float64 \n",
      " 5   key               1600 non-null   int64   \n",
      " 6   loudness          1600 non-null   float64 \n",
      " 7   mode              1600 non-null   int64   \n",
      " 8   speechiness       1600 non-null   float64 \n",
      " 9   acousticness      1600 non-null   float64 \n",
      " 10  instrumentalness  1600 non-null   float64 \n",
      " 11  liveness          1600 non-null   float64 \n",
      " 12  valence           1600 non-null   float64 \n",
      " 13  tempo             1600 non-null   float64 \n",
      " 14  duration_ms       1600 non-null   int64   \n",
      " 15  time_signature    1600 non-null   int64   \n",
      " 16  chorus_hit        1600 non-null   float64 \n",
      " 17  sections          1600 non-null   int64   \n",
      " 18  target            1600 non-null   category\n",
      "dtypes: category(1), float64(10), int64(5), object(3)\n",
      "memory usage: 239.2+ KB\n"
     ]
    }
   ],
   "source": [
    "music_test.info()"
   ]
  },
  {
   "cell_type": "code",
   "execution_count": 69,
   "metadata": {},
   "outputs": [
    {
     "data": {
      "text/plain": [
       "target\n",
       "Flop    0.5\n",
       "Hit     0.5\n",
       "Name: proportion, dtype: float64"
      ]
     },
     "execution_count": 69,
     "metadata": {},
     "output_type": "execute_result"
    }
   ],
   "source": [
    "music_train[\"target\"].value_counts(normalize=True)"
   ]
  },
  {
   "attachments": {},
   "cell_type": "markdown",
   "metadata": {},
   "source": [
    "Proportions of the training data are the same as before we split the data"
   ]
  },
  {
   "attachments": {},
   "cell_type": "markdown",
   "metadata": {},
   "source": [
    "### Preprocessing the Data"
   ]
  },
  {
   "cell_type": "code",
   "execution_count": 70,
   "metadata": {},
   "outputs": [],
   "source": [
    "from sklearn.preprocessing import StandardScaler\n",
    "from sklearn.compose import make_column_transformer\n",
    "\n",
    "music_preprocessor = make_column_transformer(\n",
    "    (StandardScaler(), [\"danceability\", \"energy\", \"loudness\", \"speechiness\", \"instrumentalness\", \"valence\", \"time_signature\"]),\n",
    ")"
   ]
  },
  {
   "attachments": {},
   "cell_type": "markdown",
   "metadata": {},
   "source": [
    "### Training the Model"
   ]
  },
  {
   "cell_type": "code",
   "execution_count": 71,
   "metadata": {},
   "outputs": [
    {
     "data": {
      "text/html": [
       "<style>#sk-container-id-1 {color: black;}#sk-container-id-1 pre{padding: 0;}#sk-container-id-1 div.sk-toggleable {background-color: white;}#sk-container-id-1 label.sk-toggleable__label {cursor: pointer;display: block;width: 100%;margin-bottom: 0;padding: 0.3em;box-sizing: border-box;text-align: center;}#sk-container-id-1 label.sk-toggleable__label-arrow:before {content: \"▸\";float: left;margin-right: 0.25em;color: #696969;}#sk-container-id-1 label.sk-toggleable__label-arrow:hover:before {color: black;}#sk-container-id-1 div.sk-estimator:hover label.sk-toggleable__label-arrow:before {color: black;}#sk-container-id-1 div.sk-toggleable__content {max-height: 0;max-width: 0;overflow: hidden;text-align: left;background-color: #f0f8ff;}#sk-container-id-1 div.sk-toggleable__content pre {margin: 0.2em;color: black;border-radius: 0.25em;background-color: #f0f8ff;}#sk-container-id-1 input.sk-toggleable__control:checked~div.sk-toggleable__content {max-height: 200px;max-width: 100%;overflow: auto;}#sk-container-id-1 input.sk-toggleable__control:checked~label.sk-toggleable__label-arrow:before {content: \"▾\";}#sk-container-id-1 div.sk-estimator input.sk-toggleable__control:checked~label.sk-toggleable__label {background-color: #d4ebff;}#sk-container-id-1 div.sk-label input.sk-toggleable__control:checked~label.sk-toggleable__label {background-color: #d4ebff;}#sk-container-id-1 input.sk-hidden--visually {border: 0;clip: rect(1px 1px 1px 1px);clip: rect(1px, 1px, 1px, 1px);height: 1px;margin: -1px;overflow: hidden;padding: 0;position: absolute;width: 1px;}#sk-container-id-1 div.sk-estimator {font-family: monospace;background-color: #f0f8ff;border: 1px dotted black;border-radius: 0.25em;box-sizing: border-box;margin-bottom: 0.5em;}#sk-container-id-1 div.sk-estimator:hover {background-color: #d4ebff;}#sk-container-id-1 div.sk-parallel-item::after {content: \"\";width: 100%;border-bottom: 1px solid gray;flex-grow: 1;}#sk-container-id-1 div.sk-label:hover label.sk-toggleable__label {background-color: #d4ebff;}#sk-container-id-1 div.sk-serial::before {content: \"\";position: absolute;border-left: 1px solid gray;box-sizing: border-box;top: 0;bottom: 0;left: 50%;z-index: 0;}#sk-container-id-1 div.sk-serial {display: flex;flex-direction: column;align-items: center;background-color: white;padding-right: 0.2em;padding-left: 0.2em;position: relative;}#sk-container-id-1 div.sk-item {position: relative;z-index: 1;}#sk-container-id-1 div.sk-parallel {display: flex;align-items: stretch;justify-content: center;background-color: white;position: relative;}#sk-container-id-1 div.sk-item::before, #sk-container-id-1 div.sk-parallel-item::before {content: \"\";position: absolute;border-left: 1px solid gray;box-sizing: border-box;top: 0;bottom: 0;left: 50%;z-index: -1;}#sk-container-id-1 div.sk-parallel-item {display: flex;flex-direction: column;z-index: 1;position: relative;background-color: white;}#sk-container-id-1 div.sk-parallel-item:first-child::after {align-self: flex-end;width: 50%;}#sk-container-id-1 div.sk-parallel-item:last-child::after {align-self: flex-start;width: 50%;}#sk-container-id-1 div.sk-parallel-item:only-child::after {width: 0;}#sk-container-id-1 div.sk-dashed-wrapped {border: 1px dashed gray;margin: 0 0.4em 0.5em 0.4em;box-sizing: border-box;padding-bottom: 0.4em;background-color: white;}#sk-container-id-1 div.sk-label label {font-family: monospace;font-weight: bold;display: inline-block;line-height: 1.2em;}#sk-container-id-1 div.sk-label-container {text-align: center;}#sk-container-id-1 div.sk-container {/* jupyter's `normalize.less` sets `[hidden] { display: none; }` but bootstrap.min.css set `[hidden] { display: none !important; }` so we also need the `!important` here to be able to override the default hidden behavior on the sphinx rendered scikit-learn.org. See: https://github.com/scikit-learn/scikit-learn/issues/21755 */display: inline-block !important;position: relative;}#sk-container-id-1 div.sk-text-repr-fallback {display: none;}</style><div id=\"sk-container-id-1\" class=\"sk-top-container\"><div class=\"sk-text-repr-fallback\"><pre>Pipeline(steps=[(&#x27;columntransformer&#x27;,\n",
       "                 ColumnTransformer(transformers=[(&#x27;standardscaler&#x27;,\n",
       "                                                  StandardScaler(),\n",
       "                                                  [&#x27;danceability&#x27;, &#x27;energy&#x27;,\n",
       "                                                   &#x27;loudness&#x27;, &#x27;speechiness&#x27;,\n",
       "                                                   &#x27;instrumentalness&#x27;,\n",
       "                                                   &#x27;valence&#x27;,\n",
       "                                                   &#x27;time_signature&#x27;])])),\n",
       "                (&#x27;kneighborsclassifier&#x27;, KNeighborsClassifier(n_neighbors=3))])</pre><b>In a Jupyter environment, please rerun this cell to show the HTML representation or trust the notebook. <br />On GitHub, the HTML representation is unable to render, please try loading this page with nbviewer.org.</b></div><div class=\"sk-container\" hidden><div class=\"sk-item sk-dashed-wrapped\"><div class=\"sk-label-container\"><div class=\"sk-label sk-toggleable\"><input class=\"sk-toggleable__control sk-hidden--visually\" id=\"sk-estimator-id-1\" type=\"checkbox\" ><label for=\"sk-estimator-id-1\" class=\"sk-toggleable__label sk-toggleable__label-arrow\">Pipeline</label><div class=\"sk-toggleable__content\"><pre>Pipeline(steps=[(&#x27;columntransformer&#x27;,\n",
       "                 ColumnTransformer(transformers=[(&#x27;standardscaler&#x27;,\n",
       "                                                  StandardScaler(),\n",
       "                                                  [&#x27;danceability&#x27;, &#x27;energy&#x27;,\n",
       "                                                   &#x27;loudness&#x27;, &#x27;speechiness&#x27;,\n",
       "                                                   &#x27;instrumentalness&#x27;,\n",
       "                                                   &#x27;valence&#x27;,\n",
       "                                                   &#x27;time_signature&#x27;])])),\n",
       "                (&#x27;kneighborsclassifier&#x27;, KNeighborsClassifier(n_neighbors=3))])</pre></div></div></div><div class=\"sk-serial\"><div class=\"sk-item sk-dashed-wrapped\"><div class=\"sk-label-container\"><div class=\"sk-label sk-toggleable\"><input class=\"sk-toggleable__control sk-hidden--visually\" id=\"sk-estimator-id-2\" type=\"checkbox\" ><label for=\"sk-estimator-id-2\" class=\"sk-toggleable__label sk-toggleable__label-arrow\">columntransformer: ColumnTransformer</label><div class=\"sk-toggleable__content\"><pre>ColumnTransformer(transformers=[(&#x27;standardscaler&#x27;, StandardScaler(),\n",
       "                                 [&#x27;danceability&#x27;, &#x27;energy&#x27;, &#x27;loudness&#x27;,\n",
       "                                  &#x27;speechiness&#x27;, &#x27;instrumentalness&#x27;, &#x27;valence&#x27;,\n",
       "                                  &#x27;time_signature&#x27;])])</pre></div></div></div><div class=\"sk-parallel\"><div class=\"sk-parallel-item\"><div class=\"sk-item\"><div class=\"sk-label-container\"><div class=\"sk-label sk-toggleable\"><input class=\"sk-toggleable__control sk-hidden--visually\" id=\"sk-estimator-id-3\" type=\"checkbox\" ><label for=\"sk-estimator-id-3\" class=\"sk-toggleable__label sk-toggleable__label-arrow\">standardscaler</label><div class=\"sk-toggleable__content\"><pre>[&#x27;danceability&#x27;, &#x27;energy&#x27;, &#x27;loudness&#x27;, &#x27;speechiness&#x27;, &#x27;instrumentalness&#x27;, &#x27;valence&#x27;, &#x27;time_signature&#x27;]</pre></div></div></div><div class=\"sk-serial\"><div class=\"sk-item\"><div class=\"sk-estimator sk-toggleable\"><input class=\"sk-toggleable__control sk-hidden--visually\" id=\"sk-estimator-id-4\" type=\"checkbox\" ><label for=\"sk-estimator-id-4\" class=\"sk-toggleable__label sk-toggleable__label-arrow\">StandardScaler</label><div class=\"sk-toggleable__content\"><pre>StandardScaler()</pre></div></div></div></div></div></div></div></div><div class=\"sk-item\"><div class=\"sk-estimator sk-toggleable\"><input class=\"sk-toggleable__control sk-hidden--visually\" id=\"sk-estimator-id-5\" type=\"checkbox\" ><label for=\"sk-estimator-id-5\" class=\"sk-toggleable__label sk-toggleable__label-arrow\">KNeighborsClassifier</label><div class=\"sk-toggleable__content\"><pre>KNeighborsClassifier(n_neighbors=3)</pre></div></div></div></div></div></div></div>"
      ],
      "text/plain": [
       "Pipeline(steps=[('columntransformer',\n",
       "                 ColumnTransformer(transformers=[('standardscaler',\n",
       "                                                  StandardScaler(),\n",
       "                                                  ['danceability', 'energy',\n",
       "                                                   'loudness', 'speechiness',\n",
       "                                                   'instrumentalness',\n",
       "                                                   'valence',\n",
       "                                                   'time_signature'])])),\n",
       "                ('kneighborsclassifier', KNeighborsClassifier(n_neighbors=3))])"
      ]
     },
     "execution_count": 71,
     "metadata": {},
     "output_type": "execute_result"
    }
   ],
   "source": [
    "from sklearn.neighbors import KNeighborsClassifier\n",
    "from sklearn.pipeline import make_pipeline\n",
    "\n",
    "knn = KNeighborsClassifier(n_neighbors=3) \n",
    "\n",
    "X = music_train.loc[:, [\"danceability\", \"energy\", \"loudness\", \"speechiness\", \"instrumentalness\", \"valence\", \"time_signature\"]]\n",
    "y = music_train[\"target\"]\n",
    "\n",
    "knn_fit = make_pipeline(music_preprocessor, knn).fit(X, y)\n",
    "\n",
    "knn_fit"
   ]
  },
  {
   "attachments": {},
   "cell_type": "markdown",
   "metadata": {},
   "source": [
    "I chose to use the Pipeline in the scikit-learn package since it allows me to string multiple data analysis steps while reducing the amount of code I need to write for intermediate steps."
   ]
  },
  {
   "attachments": {},
   "cell_type": "markdown",
   "metadata": {},
   "source": [
    "### Label Predictions and Accuracy"
   ]
  },
  {
   "cell_type": "code",
   "execution_count": 72,
   "metadata": {},
   "outputs": [
    {
     "data": {
      "text/html": [
       "<div>\n",
       "<style scoped>\n",
       "    .dataframe tbody tr th:only-of-type {\n",
       "        vertical-align: middle;\n",
       "    }\n",
       "\n",
       "    .dataframe tbody tr th {\n",
       "        vertical-align: top;\n",
       "    }\n",
       "\n",
       "    .dataframe thead th {\n",
       "        text-align: right;\n",
       "    }\n",
       "</style>\n",
       "<table border=\"1\" class=\"dataframe\">\n",
       "  <thead>\n",
       "    <tr style=\"text-align: right;\">\n",
       "      <th></th>\n",
       "      <th>track</th>\n",
       "      <th>target</th>\n",
       "      <th>predicted</th>\n",
       "    </tr>\n",
       "  </thead>\n",
       "  <tbody>\n",
       "    <tr>\n",
       "      <th>202</th>\n",
       "      <td>Enemy - Radio Edit</td>\n",
       "      <td>Flop</td>\n",
       "      <td>Hit</td>\n",
       "    </tr>\n",
       "    <tr>\n",
       "      <th>4893</th>\n",
       "      <td>Wat U Mean (Aye, Aye, Aye)</td>\n",
       "      <td>Hit</td>\n",
       "      <td>Hit</td>\n",
       "    </tr>\n",
       "    <tr>\n",
       "      <th>6033</th>\n",
       "      <td>Woman</td>\n",
       "      <td>Hit</td>\n",
       "      <td>Hit</td>\n",
       "    </tr>\n",
       "    <tr>\n",
       "      <th>2988</th>\n",
       "      <td>La Dinastía Fernández - La Derrota / Volver, V...</td>\n",
       "      <td>Flop</td>\n",
       "      <td>Hit</td>\n",
       "    </tr>\n",
       "    <tr>\n",
       "      <th>121</th>\n",
       "      <td>Lois Lane</td>\n",
       "      <td>Flop</td>\n",
       "      <td>Hit</td>\n",
       "    </tr>\n",
       "    <tr>\n",
       "      <th>...</th>\n",
       "      <td>...</td>\n",
       "      <td>...</td>\n",
       "      <td>...</td>\n",
       "    </tr>\n",
       "    <tr>\n",
       "      <th>669</th>\n",
       "      <td>Sitting on the Roof of S.F.A.I.</td>\n",
       "      <td>Flop</td>\n",
       "      <td>Hit</td>\n",
       "    </tr>\n",
       "    <tr>\n",
       "      <th>149</th>\n",
       "      <td>Seal The Deal</td>\n",
       "      <td>Flop</td>\n",
       "      <td>Flop</td>\n",
       "    </tr>\n",
       "    <tr>\n",
       "      <th>813</th>\n",
       "      <td>California King Bed</td>\n",
       "      <td>Hit</td>\n",
       "      <td>Hit</td>\n",
       "    </tr>\n",
       "    <tr>\n",
       "      <th>45</th>\n",
       "      <td>Money</td>\n",
       "      <td>Flop</td>\n",
       "      <td>Flop</td>\n",
       "    </tr>\n",
       "    <tr>\n",
       "      <th>932</th>\n",
       "      <td>Que Pretendes</td>\n",
       "      <td>Hit</td>\n",
       "      <td>Hit</td>\n",
       "    </tr>\n",
       "  </tbody>\n",
       "</table>\n",
       "<p>1600 rows × 3 columns</p>\n",
       "</div>"
      ],
      "text/plain": [
       "                                                  track target predicted\n",
       "202                                  Enemy - Radio Edit   Flop       Hit\n",
       "4893                         Wat U Mean (Aye, Aye, Aye)    Hit       Hit\n",
       "6033                                              Woman    Hit       Hit\n",
       "2988  La Dinastía Fernández - La Derrota / Volver, V...   Flop       Hit\n",
       "121                                           Lois Lane   Flop       Hit\n",
       "...                                                 ...    ...       ...\n",
       "669                     Sitting on the Roof of S.F.A.I.   Flop       Hit\n",
       "149                                       Seal The Deal   Flop      Flop\n",
       "813                                 California King Bed    Hit       Hit\n",
       "45                                                Money   Flop      Flop\n",
       "932                                       Que Pretendes    Hit       Hit\n",
       "\n",
       "[1600 rows x 3 columns]"
      ]
     },
     "execution_count": 72,
     "metadata": {},
     "output_type": "execute_result"
    }
   ],
   "source": [
    "music_test_predictions = music_test.assign(\n",
    "    predicted = knn_fit.predict(music_test.loc[:, [\"danceability\", \"energy\", \"loudness\", \"speechiness\", \"instrumentalness\", \"valence\", \"time_signature\"]])\n",
    ")\n",
    "music_test_predictions[[\"track\", \"target\", \"predicted\"]]"
   ]
  },
  {
   "cell_type": "code",
   "execution_count": 73,
   "metadata": {},
   "outputs": [
    {
     "data": {
      "text/plain": [
       "0.793125"
      ]
     },
     "execution_count": 73,
     "metadata": {},
     "output_type": "execute_result"
    }
   ],
   "source": [
    "music_acc_1 = knn_fit.score(\n",
    "    music_test.loc[:, [\"danceability\", \"energy\", \"loudness\", \"speechiness\", \"instrumentalness\", \"valence\", \"time_signature\"]],\n",
    "    music_test[\"target\"]\n",
    ")\n",
    "music_acc_1"
   ]
  },
  {
   "cell_type": "code",
   "execution_count": 74,
   "metadata": {},
   "outputs": [
    {
     "data": {
      "text/html": [
       "<div>\n",
       "<style scoped>\n",
       "    .dataframe tbody tr th:only-of-type {\n",
       "        vertical-align: middle;\n",
       "    }\n",
       "\n",
       "    .dataframe tbody tr th {\n",
       "        vertical-align: top;\n",
       "    }\n",
       "\n",
       "    .dataframe thead th {\n",
       "        text-align: right;\n",
       "    }\n",
       "</style>\n",
       "<table border=\"1\" class=\"dataframe\">\n",
       "  <thead>\n",
       "    <tr style=\"text-align: right;\">\n",
       "      <th>predicted</th>\n",
       "      <th>Flop</th>\n",
       "      <th>Hit</th>\n",
       "    </tr>\n",
       "    <tr>\n",
       "      <th>target</th>\n",
       "      <th></th>\n",
       "      <th></th>\n",
       "    </tr>\n",
       "  </thead>\n",
       "  <tbody>\n",
       "    <tr>\n",
       "      <th>Flop</th>\n",
       "      <td>593</td>\n",
       "      <td>207</td>\n",
       "    </tr>\n",
       "    <tr>\n",
       "      <th>Hit</th>\n",
       "      <td>124</td>\n",
       "      <td>676</td>\n",
       "    </tr>\n",
       "  </tbody>\n",
       "</table>\n",
       "</div>"
      ],
      "text/plain": [
       "predicted  Flop  Hit\n",
       "target              \n",
       "Flop        593  207\n",
       "Hit         124  676"
      ]
     },
     "execution_count": 74,
     "metadata": {},
     "output_type": "execute_result"
    }
   ],
   "source": [
    "#Confusion Matrix\n",
    "\n",
    "pd.crosstab(\n",
    "    music_test_predictions[\"target\"],\n",
    "    music_test_predictions[\"predicted\"]\n",
    ")"
   ]
  },
  {
   "attachments": {},
   "cell_type": "markdown",
   "metadata": {},
   "source": [
    "### Tuning the Model and Selecting Optimal K Value"
   ]
  },
  {
   "attachments": {},
   "cell_type": "markdown",
   "metadata": {},
   "source": [
    "#### Performing 5-fold Cross Validation"
   ]
  },
  {
   "cell_type": "code",
   "execution_count": 75,
   "metadata": {},
   "outputs": [
    {
     "data": {
      "text/html": [
       "<div>\n",
       "<style scoped>\n",
       "    .dataframe tbody tr th:only-of-type {\n",
       "        vertical-align: middle;\n",
       "    }\n",
       "\n",
       "    .dataframe tbody tr th {\n",
       "        vertical-align: top;\n",
       "    }\n",
       "\n",
       "    .dataframe thead th {\n",
       "        text-align: right;\n",
       "    }\n",
       "</style>\n",
       "<table border=\"1\" class=\"dataframe\">\n",
       "  <thead>\n",
       "    <tr style=\"text-align: right;\">\n",
       "      <th></th>\n",
       "      <th>fit_time</th>\n",
       "      <th>score_time</th>\n",
       "      <th>test_score</th>\n",
       "    </tr>\n",
       "  </thead>\n",
       "  <tbody>\n",
       "    <tr>\n",
       "      <th>0</th>\n",
       "      <td>0.004198</td>\n",
       "      <td>0.021277</td>\n",
       "      <td>0.794792</td>\n",
       "    </tr>\n",
       "    <tr>\n",
       "      <th>1</th>\n",
       "      <td>0.003863</td>\n",
       "      <td>0.020818</td>\n",
       "      <td>0.775000</td>\n",
       "    </tr>\n",
       "    <tr>\n",
       "      <th>2</th>\n",
       "      <td>0.003700</td>\n",
       "      <td>0.020649</td>\n",
       "      <td>0.771875</td>\n",
       "    </tr>\n",
       "    <tr>\n",
       "      <th>3</th>\n",
       "      <td>0.003586</td>\n",
       "      <td>0.020691</td>\n",
       "      <td>0.792492</td>\n",
       "    </tr>\n",
       "    <tr>\n",
       "      <th>4</th>\n",
       "      <td>0.003755</td>\n",
       "      <td>0.020766</td>\n",
       "      <td>0.785193</td>\n",
       "    </tr>\n",
       "  </tbody>\n",
       "</table>\n",
       "</div>"
      ],
      "text/plain": [
       "   fit_time  score_time  test_score\n",
       "0  0.004198    0.021277    0.794792\n",
       "1  0.003863    0.020818    0.775000\n",
       "2  0.003700    0.020649    0.771875\n",
       "3  0.003586    0.020691    0.792492\n",
       "4  0.003755    0.020766    0.785193"
      ]
     },
     "execution_count": 75,
     "metadata": {},
     "output_type": "execute_result"
    }
   ],
   "source": [
    "from sklearn.model_selection import cross_validate\n",
    "\n",
    "knn = KNeighborsClassifier(n_neighbors=3) \n",
    "music_pipe = make_pipeline(music_preprocessor, knn)\n",
    "X = music_train.loc[:, [\"danceability\", \"energy\", \"loudness\", \"speechiness\", \"instrumentalness\", \"valence\", \"time_signature\"]]\n",
    "y = music_train[\"target\"]\n",
    "cv_5_df = pd.DataFrame(\n",
    "    cross_validate(\n",
    "        estimator=music_pipe,\n",
    "        cv=5,\n",
    "        X=X,\n",
    "        y=y\n",
    "    )\n",
    ")\n",
    "\n",
    "cv_5_df"
   ]
  },
  {
   "cell_type": "code",
   "execution_count": 76,
   "metadata": {},
   "outputs": [
    {
     "data": {
      "text/html": [
       "<div>\n",
       "<style scoped>\n",
       "    .dataframe tbody tr th:only-of-type {\n",
       "        vertical-align: middle;\n",
       "    }\n",
       "\n",
       "    .dataframe tbody tr th {\n",
       "        vertical-align: top;\n",
       "    }\n",
       "\n",
       "    .dataframe thead th {\n",
       "        text-align: right;\n",
       "    }\n",
       "</style>\n",
       "<table border=\"1\" class=\"dataframe\">\n",
       "  <thead>\n",
       "    <tr style=\"text-align: right;\">\n",
       "      <th></th>\n",
       "      <th>fit_time</th>\n",
       "      <th>score_time</th>\n",
       "      <th>test_score</th>\n",
       "    </tr>\n",
       "  </thead>\n",
       "  <tbody>\n",
       "    <tr>\n",
       "      <th>mean</th>\n",
       "      <td>0.003820</td>\n",
       "      <td>0.020840</td>\n",
       "      <td>0.783870</td>\n",
       "    </tr>\n",
       "    <tr>\n",
       "      <th>sem</th>\n",
       "      <td>0.000104</td>\n",
       "      <td>0.000113</td>\n",
       "      <td>0.004571</td>\n",
       "    </tr>\n",
       "  </tbody>\n",
       "</table>\n",
       "</div>"
      ],
      "text/plain": [
       "      fit_time  score_time  test_score\n",
       "mean  0.003820    0.020840    0.783870\n",
       "sem   0.000104    0.000113    0.004571"
      ]
     },
     "execution_count": 76,
     "metadata": {},
     "output_type": "execute_result"
    }
   ],
   "source": [
    "cv_5_metrics = cv_5_df.agg(['mean', 'sem'])\n",
    "cv_5_metrics"
   ]
  },
  {
   "attachments": {},
   "cell_type": "markdown",
   "metadata": {},
   "source": [
    "Average accuracy is 78.22% with +/- 0.456% error when we have K = 3"
   ]
  },
  {
   "attachments": {},
   "cell_type": "markdown",
   "metadata": {},
   "source": [
    "#### Selecting the most optimal K Value"
   ]
  },
  {
   "cell_type": "code",
   "execution_count": 77,
   "metadata": {},
   "outputs": [],
   "source": [
    "knn = KNeighborsClassifier()\n",
    "music_tune_pipe = make_pipeline(music_preprocessor, knn)"
   ]
  },
  {
   "cell_type": "code",
   "execution_count": 78,
   "metadata": {},
   "outputs": [
    {
     "data": {
      "text/plain": [
       "{'memory': None,\n",
       " 'steps': [('columntransformer',\n",
       "   ColumnTransformer(transformers=[('standardscaler', StandardScaler(),\n",
       "                                    ['danceability', 'energy', 'loudness',\n",
       "                                     'speechiness', 'instrumentalness', 'valence',\n",
       "                                     'time_signature'])])),\n",
       "  ('kneighborsclassifier', KNeighborsClassifier())],\n",
       " 'verbose': False,\n",
       " 'columntransformer': ColumnTransformer(transformers=[('standardscaler', StandardScaler(),\n",
       "                                  ['danceability', 'energy', 'loudness',\n",
       "                                   'speechiness', 'instrumentalness', 'valence',\n",
       "                                   'time_signature'])]),\n",
       " 'kneighborsclassifier': KNeighborsClassifier(),\n",
       " 'columntransformer__n_jobs': None,\n",
       " 'columntransformer__remainder': 'drop',\n",
       " 'columntransformer__sparse_threshold': 0.3,\n",
       " 'columntransformer__transformer_weights': None,\n",
       " 'columntransformer__transformers': [('standardscaler',\n",
       "   StandardScaler(),\n",
       "   ['danceability',\n",
       "    'energy',\n",
       "    'loudness',\n",
       "    'speechiness',\n",
       "    'instrumentalness',\n",
       "    'valence',\n",
       "    'time_signature'])],\n",
       " 'columntransformer__verbose': False,\n",
       " 'columntransformer__verbose_feature_names_out': True,\n",
       " 'columntransformer__standardscaler': StandardScaler(),\n",
       " 'columntransformer__standardscaler__copy': True,\n",
       " 'columntransformer__standardscaler__with_mean': True,\n",
       " 'columntransformer__standardscaler__with_std': True,\n",
       " 'kneighborsclassifier__algorithm': 'auto',\n",
       " 'kneighborsclassifier__leaf_size': 30,\n",
       " 'kneighborsclassifier__metric': 'minkowski',\n",
       " 'kneighborsclassifier__metric_params': None,\n",
       " 'kneighborsclassifier__n_jobs': None,\n",
       " 'kneighborsclassifier__n_neighbors': 5,\n",
       " 'kneighborsclassifier__p': 2,\n",
       " 'kneighborsclassifier__weights': 'uniform'}"
      ]
     },
     "execution_count": 78,
     "metadata": {},
     "output_type": "execute_result"
    }
   ],
   "source": [
    "music_tune_pipe.get_params()"
   ]
  },
  {
   "cell_type": "code",
   "execution_count": 79,
   "metadata": {},
   "outputs": [],
   "source": [
    "parameter_grid = {\n",
    "    \"kneighborsclassifier__n_neighbors\": range(1, 100, 5),\n",
    "}"
   ]
  },
  {
   "cell_type": "code",
   "execution_count": 80,
   "metadata": {},
   "outputs": [],
   "source": [
    "from sklearn.model_selection import GridSearchCV\n",
    "\n",
    "music_tune_grid = GridSearchCV(\n",
    "    estimator = music_tune_pipe,\n",
    "    param_grid = parameter_grid,\n",
    "    cv = 10\n",
    ")"
   ]
  },
  {
   "cell_type": "code",
   "execution_count": 81,
   "metadata": {},
   "outputs": [
    {
     "name": "stdout",
     "output_type": "stream",
     "text": [
      "<class 'pandas.core.frame.DataFrame'>\n",
      "RangeIndex: 20 entries, 0 to 19\n",
      "Data columns (total 19 columns):\n",
      " #   Column                                   Non-Null Count  Dtype  \n",
      "---  ------                                   --------------  -----  \n",
      " 0   mean_fit_time                            20 non-null     float64\n",
      " 1   std_fit_time                             20 non-null     float64\n",
      " 2   mean_score_time                          20 non-null     float64\n",
      " 3   std_score_time                           20 non-null     float64\n",
      " 4   param_kneighborsclassifier__n_neighbors  20 non-null     object \n",
      " 5   params                                   20 non-null     object \n",
      " 6   split0_test_score                        20 non-null     float64\n",
      " 7   split1_test_score                        20 non-null     float64\n",
      " 8   split2_test_score                        20 non-null     float64\n",
      " 9   split3_test_score                        20 non-null     float64\n",
      " 10  split4_test_score                        20 non-null     float64\n",
      " 11  split5_test_score                        20 non-null     float64\n",
      " 12  split6_test_score                        20 non-null     float64\n",
      " 13  split7_test_score                        20 non-null     float64\n",
      " 14  split8_test_score                        20 non-null     float64\n",
      " 15  split9_test_score                        20 non-null     float64\n",
      " 16  mean_test_score                          20 non-null     float64\n",
      " 17  std_test_score                           20 non-null     float64\n",
      " 18  rank_test_score                          20 non-null     int32  \n",
      "dtypes: float64(16), int32(1), object(2)\n",
      "memory usage: 3.0+ KB\n"
     ]
    }
   ],
   "source": [
    "accuracies_grid = pd.DataFrame(\n",
    "             music_tune_grid\n",
    "             .fit(music_train.loc[:, [\"danceability\", \"energy\", \"loudness\", \"speechiness\", \"instrumentalness\", \"valence\", \"time_signature\"]],\n",
    "                  music_train[\"target\"]\n",
    "            ).cv_results_)\n",
    "\n",
    "accuracies_grid.info()"
   ]
  },
  {
   "cell_type": "code",
   "execution_count": 82,
   "metadata": {},
   "outputs": [
    {
     "data": {
      "text/html": [
       "<div>\n",
       "<style scoped>\n",
       "    .dataframe tbody tr th:only-of-type {\n",
       "        vertical-align: middle;\n",
       "    }\n",
       "\n",
       "    .dataframe tbody tr th {\n",
       "        vertical-align: top;\n",
       "    }\n",
       "\n",
       "    .dataframe thead th {\n",
       "        text-align: right;\n",
       "    }\n",
       "</style>\n",
       "<table border=\"1\" class=\"dataframe\">\n",
       "  <thead>\n",
       "    <tr style=\"text-align: right;\">\n",
       "      <th></th>\n",
       "      <th>n_neighbors</th>\n",
       "      <th>mean_test_score</th>\n",
       "      <th>sem_test_score</th>\n",
       "    </tr>\n",
       "  </thead>\n",
       "  <tbody>\n",
       "    <tr>\n",
       "      <th>0</th>\n",
       "      <td>1</td>\n",
       "      <td>0.749277</td>\n",
       "      <td>0.006129</td>\n",
       "    </tr>\n",
       "    <tr>\n",
       "      <th>1</th>\n",
       "      <td>6</td>\n",
       "      <td>0.782412</td>\n",
       "      <td>0.004650</td>\n",
       "    </tr>\n",
       "    <tr>\n",
       "      <th>2</th>\n",
       "      <td>11</td>\n",
       "      <td>0.799293</td>\n",
       "      <td>0.003812</td>\n",
       "    </tr>\n",
       "    <tr>\n",
       "      <th>3</th>\n",
       "      <td>16</td>\n",
       "      <td>0.804500</td>\n",
       "      <td>0.005493</td>\n",
       "    </tr>\n",
       "    <tr>\n",
       "      <th>4</th>\n",
       "      <td>21</td>\n",
       "      <td>0.796789</td>\n",
       "      <td>0.005416</td>\n",
       "    </tr>\n",
       "    <tr>\n",
       "      <th>5</th>\n",
       "      <td>26</td>\n",
       "      <td>0.797210</td>\n",
       "      <td>0.004830</td>\n",
       "    </tr>\n",
       "    <tr>\n",
       "      <th>6</th>\n",
       "      <td>31</td>\n",
       "      <td>0.794291</td>\n",
       "      <td>0.005213</td>\n",
       "    </tr>\n",
       "    <tr>\n",
       "      <th>7</th>\n",
       "      <td>36</td>\n",
       "      <td>0.792207</td>\n",
       "      <td>0.004509</td>\n",
       "    </tr>\n",
       "    <tr>\n",
       "      <th>8</th>\n",
       "      <td>41</td>\n",
       "      <td>0.791788</td>\n",
       "      <td>0.005662</td>\n",
       "    </tr>\n",
       "    <tr>\n",
       "      <th>9</th>\n",
       "      <td>46</td>\n",
       "      <td>0.790539</td>\n",
       "      <td>0.005734</td>\n",
       "    </tr>\n",
       "    <tr>\n",
       "      <th>10</th>\n",
       "      <td>51</td>\n",
       "      <td>0.788870</td>\n",
       "      <td>0.004564</td>\n",
       "    </tr>\n",
       "    <tr>\n",
       "      <th>11</th>\n",
       "      <td>56</td>\n",
       "      <td>0.791370</td>\n",
       "      <td>0.004713</td>\n",
       "    </tr>\n",
       "    <tr>\n",
       "      <th>12</th>\n",
       "      <td>61</td>\n",
       "      <td>0.788662</td>\n",
       "      <td>0.005256</td>\n",
       "    </tr>\n",
       "    <tr>\n",
       "      <th>13</th>\n",
       "      <td>66</td>\n",
       "      <td>0.787412</td>\n",
       "      <td>0.004909</td>\n",
       "    </tr>\n",
       "    <tr>\n",
       "      <th>14</th>\n",
       "      <td>71</td>\n",
       "      <td>0.785953</td>\n",
       "      <td>0.004447</td>\n",
       "    </tr>\n",
       "    <tr>\n",
       "      <th>15</th>\n",
       "      <td>76</td>\n",
       "      <td>0.786786</td>\n",
       "      <td>0.004449</td>\n",
       "    </tr>\n",
       "    <tr>\n",
       "      <th>16</th>\n",
       "      <td>81</td>\n",
       "      <td>0.785953</td>\n",
       "      <td>0.004318</td>\n",
       "    </tr>\n",
       "    <tr>\n",
       "      <th>17</th>\n",
       "      <td>86</td>\n",
       "      <td>0.785119</td>\n",
       "      <td>0.004442</td>\n",
       "    </tr>\n",
       "    <tr>\n",
       "      <th>18</th>\n",
       "      <td>91</td>\n",
       "      <td>0.785535</td>\n",
       "      <td>0.004187</td>\n",
       "    </tr>\n",
       "    <tr>\n",
       "      <th>19</th>\n",
       "      <td>96</td>\n",
       "      <td>0.785535</td>\n",
       "      <td>0.004608</td>\n",
       "    </tr>\n",
       "  </tbody>\n",
       "</table>\n",
       "</div>"
      ],
      "text/plain": [
       "   n_neighbors  mean_test_score  sem_test_score\n",
       "0            1         0.749277        0.006129\n",
       "1            6         0.782412        0.004650\n",
       "2           11         0.799293        0.003812\n",
       "3           16         0.804500        0.005493\n",
       "4           21         0.796789        0.005416\n",
       "5           26         0.797210        0.004830\n",
       "6           31         0.794291        0.005213\n",
       "7           36         0.792207        0.004509\n",
       "8           41         0.791788        0.005662\n",
       "9           46         0.790539        0.005734\n",
       "10          51         0.788870        0.004564\n",
       "11          56         0.791370        0.004713\n",
       "12          61         0.788662        0.005256\n",
       "13          66         0.787412        0.004909\n",
       "14          71         0.785953        0.004447\n",
       "15          76         0.786786        0.004449\n",
       "16          81         0.785953        0.004318\n",
       "17          86         0.785119        0.004442\n",
       "18          91         0.785535        0.004187\n",
       "19          96         0.785535        0.004608"
      ]
     },
     "execution_count": 82,
     "metadata": {},
     "output_type": "execute_result"
    }
   ],
   "source": [
    "accuracies_grid = accuracies_grid[[\"param_kneighborsclassifier__n_neighbors\", \"mean_test_score\", \"std_test_score\"]\n",
    "              ].assign(\n",
    "                  sem_test_score = accuracies_grid[\"std_test_score\"] / 10**(1/2)\n",
    "              ).rename(\n",
    "                  columns = {\"param_kneighborsclassifier__n_neighbors\" : \"n_neighbors\"}\n",
    "              ).drop(\n",
    "                  columns = [\"std_test_score\"]\n",
    "              )\n",
    "accuracies_grid"
   ]
  },
  {
   "cell_type": "code",
   "execution_count": 83,
   "metadata": {},
   "outputs": [
    {
     "data": {
      "text/html": [
       "\n",
       "<style>\n",
       "  #altair-viz-e26c475e5e6443b397ae7f07febac8a3.vega-embed {\n",
       "    width: 100%;\n",
       "    display: flex;\n",
       "  }\n",
       "\n",
       "  #altair-viz-e26c475e5e6443b397ae7f07febac8a3.vega-embed details,\n",
       "  #altair-viz-e26c475e5e6443b397ae7f07febac8a3.vega-embed details summary {\n",
       "    position: relative;\n",
       "  }\n",
       "</style>\n",
       "<div id=\"altair-viz-e26c475e5e6443b397ae7f07febac8a3\"></div>\n",
       "<script type=\"text/javascript\">\n",
       "  var VEGA_DEBUG = (typeof VEGA_DEBUG == \"undefined\") ? {} : VEGA_DEBUG;\n",
       "  (function(spec, embedOpt){\n",
       "    let outputDiv = document.currentScript.previousElementSibling;\n",
       "    if (outputDiv.id !== \"altair-viz-e26c475e5e6443b397ae7f07febac8a3\") {\n",
       "      outputDiv = document.getElementById(\"altair-viz-e26c475e5e6443b397ae7f07febac8a3\");\n",
       "    }\n",
       "    const paths = {\n",
       "      \"vega\": \"https://cdn.jsdelivr.net/npm/vega@5?noext\",\n",
       "      \"vega-lib\": \"https://cdn.jsdelivr.net/npm/vega-lib?noext\",\n",
       "      \"vega-lite\": \"https://cdn.jsdelivr.net/npm/vega-lite@5.8.0?noext\",\n",
       "      \"vega-embed\": \"https://cdn.jsdelivr.net/npm/vega-embed@6?noext\",\n",
       "    };\n",
       "\n",
       "    function maybeLoadScript(lib, version) {\n",
       "      var key = `${lib.replace(\"-\", \"\")}_version`;\n",
       "      return (VEGA_DEBUG[key] == version) ?\n",
       "        Promise.resolve(paths[lib]) :\n",
       "        new Promise(function(resolve, reject) {\n",
       "          var s = document.createElement('script');\n",
       "          document.getElementsByTagName(\"head\")[0].appendChild(s);\n",
       "          s.async = true;\n",
       "          s.onload = () => {\n",
       "            VEGA_DEBUG[key] = version;\n",
       "            return resolve(paths[lib]);\n",
       "          };\n",
       "          s.onerror = () => reject(`Error loading script: ${paths[lib]}`);\n",
       "          s.src = paths[lib];\n",
       "        });\n",
       "    }\n",
       "\n",
       "    function showError(err) {\n",
       "      outputDiv.innerHTML = `<div class=\"error\" style=\"color:red;\">${err}</div>`;\n",
       "      throw err;\n",
       "    }\n",
       "\n",
       "    function displayChart(vegaEmbed) {\n",
       "      vegaEmbed(outputDiv, spec, embedOpt)\n",
       "        .catch(err => showError(`Javascript Error: ${err.message}<br>This usually means there's a typo in your chart specification. See the javascript console for the full traceback.`));\n",
       "    }\n",
       "\n",
       "    if(typeof define === \"function\" && define.amd) {\n",
       "      requirejs.config({paths});\n",
       "      require([\"vega-embed\"], displayChart, err => showError(`Error loading script: ${err.message}`));\n",
       "    } else {\n",
       "      maybeLoadScript(\"vega\", \"5\")\n",
       "        .then(() => maybeLoadScript(\"vega-lite\", \"5.8.0\"))\n",
       "        .then(() => maybeLoadScript(\"vega-embed\", \"6\"))\n",
       "        .catch(showError)\n",
       "        .then(() => displayChart(vegaEmbed));\n",
       "    }\n",
       "  })({\"config\": {\"view\": {\"continuousWidth\": 300, \"continuousHeight\": 300}}, \"data\": {\"name\": \"data-5e17c1e7427add1a53fd0d3c59131650\"}, \"mark\": {\"type\": \"line\", \"point\": true}, \"encoding\": {\"x\": {\"field\": \"n_neighbors\", \"title\": \"Neighbors\", \"type\": \"quantitative\"}, \"y\": {\"field\": \"mean_test_score\", \"scale\": {\"domain\": [0.74, 0.82]}, \"title\": \"Accuracy estimate\", \"type\": \"quantitative\"}}, \"$schema\": \"https://vega.github.io/schema/vega-lite/v5.8.0.json\", \"datasets\": {\"data-5e17c1e7427add1a53fd0d3c59131650\": [{\"n_neighbors\": 1, \"mean_test_score\": 0.7492767049408491, \"sem_test_score\": 0.0061288050739469095}, {\"n_neighbors\": 6, \"mean_test_score\": 0.7824117084203202, \"sem_test_score\": 0.004650393306543916}, {\"n_neighbors\": 11, \"mean_test_score\": 0.7992927974947808, \"sem_test_score\": 0.003811668314367512}, {\"n_neighbors\": 16, \"mean_test_score\": 0.804500260960334, \"sem_test_score\": 0.005492543823263904}, {\"n_neighbors\": 21, \"mean_test_score\": 0.7967888830897703, \"sem_test_score\": 0.005416033089067038}, {\"n_neighbors\": 26, \"mean_test_score\": 0.7972098990953376, \"sem_test_score\": 0.004830479845156378}, {\"n_neighbors\": 31, \"mean_test_score\": 0.7942914926931106, \"sem_test_score\": 0.005212532130676668}, {\"n_neighbors\": 36, \"mean_test_score\": 0.7922068545581071, \"sem_test_score\": 0.0045087547442504835}, {\"n_neighbors\": 41, \"mean_test_score\": 0.7917884481558803, \"sem_test_score\": 0.005662256734430703}, {\"n_neighbors\": 46, \"mean_test_score\": 0.7905388830897703, \"sem_test_score\": 0.005733534314332837}, {\"n_neighbors\": 51, \"mean_test_score\": 0.7888704766875435, \"sem_test_score\": 0.004564124268624223}, {\"n_neighbors\": 56, \"mean_test_score\": 0.7913704766875436, \"sem_test_score\": 0.004712841578937808}, {\"n_neighbors\": 61, \"mean_test_score\": 0.7886617084203201, \"sem_test_score\": 0.005256342940401846}, {\"n_neighbors\": 66, \"mean_test_score\": 0.7874121433542102, \"sem_test_score\": 0.004909162486387661}, {\"n_neighbors\": 71, \"mean_test_score\": 0.7859529401530967, \"sem_test_score\": 0.004447368042737673}, {\"n_neighbors\": 76, \"mean_test_score\": 0.7867862734864299, \"sem_test_score\": 0.004449030260610278}, {\"n_neighbors\": 81, \"mean_test_score\": 0.7859529401530967, \"sem_test_score\": 0.004318341177192773}, {\"n_neighbors\": 86, \"mean_test_score\": 0.7851191718858733, \"sem_test_score\": 0.004441762908965591}, {\"n_neighbors\": 91, \"mean_test_score\": 0.7855345337508698, \"sem_test_score\": 0.0041872625680808165}, {\"n_neighbors\": 96, \"mean_test_score\": 0.7855354036186499, \"sem_test_score\": 0.004607583710788375}]}}, {\"mode\": \"vega-lite\"});\n",
       "</script>"
      ],
      "text/plain": [
       "alt.Chart(...)"
      ]
     },
     "execution_count": 83,
     "metadata": {},
     "output_type": "execute_result"
    }
   ],
   "source": [
    "#Graph accuracy vs. k value \n",
    "\n",
    "import altair as alt\n",
    "\n",
    "accuracy_vs_k = (\n",
    "    alt.Chart(accuracies_grid)\n",
    "    .mark_line(point=True)\n",
    "    .encode(\n",
    "        x=alt.X(\n",
    "            \"n_neighbors\",\n",
    "            title=\"Neighbors\",\n",
    "        ),\n",
    "        y=alt.Y(\n",
    "            \"mean_test_score\",\n",
    "            title=\"Accuracy estimate\",\n",
    "            scale=alt.Scale(domain=(0.74, 0.82)),\n",
    "        ),\n",
    "    )\n",
    ")\n",
    "\n",
    "accuracy_vs_k"
   ]
  },
  {
   "attachments": {},
   "cell_type": "markdown",
   "metadata": {},
   "source": [
    "\n",
    "\n",
    "Therefore, the most optimal K value is 16 with an accuracy of 80.45% with +/- 0.549% error."
   ]
  },
  {
   "attachments": {},
   "cell_type": "markdown",
   "metadata": {},
   "source": [
    "### Training the Final Model"
   ]
  },
  {
   "cell_type": "code",
   "execution_count": 84,
   "metadata": {},
   "outputs": [
    {
     "data": {
      "text/html": [
       "<style>#sk-container-id-2 {color: black;}#sk-container-id-2 pre{padding: 0;}#sk-container-id-2 div.sk-toggleable {background-color: white;}#sk-container-id-2 label.sk-toggleable__label {cursor: pointer;display: block;width: 100%;margin-bottom: 0;padding: 0.3em;box-sizing: border-box;text-align: center;}#sk-container-id-2 label.sk-toggleable__label-arrow:before {content: \"▸\";float: left;margin-right: 0.25em;color: #696969;}#sk-container-id-2 label.sk-toggleable__label-arrow:hover:before {color: black;}#sk-container-id-2 div.sk-estimator:hover label.sk-toggleable__label-arrow:before {color: black;}#sk-container-id-2 div.sk-toggleable__content {max-height: 0;max-width: 0;overflow: hidden;text-align: left;background-color: #f0f8ff;}#sk-container-id-2 div.sk-toggleable__content pre {margin: 0.2em;color: black;border-radius: 0.25em;background-color: #f0f8ff;}#sk-container-id-2 input.sk-toggleable__control:checked~div.sk-toggleable__content {max-height: 200px;max-width: 100%;overflow: auto;}#sk-container-id-2 input.sk-toggleable__control:checked~label.sk-toggleable__label-arrow:before {content: \"▾\";}#sk-container-id-2 div.sk-estimator input.sk-toggleable__control:checked~label.sk-toggleable__label {background-color: #d4ebff;}#sk-container-id-2 div.sk-label input.sk-toggleable__control:checked~label.sk-toggleable__label {background-color: #d4ebff;}#sk-container-id-2 input.sk-hidden--visually {border: 0;clip: rect(1px 1px 1px 1px);clip: rect(1px, 1px, 1px, 1px);height: 1px;margin: -1px;overflow: hidden;padding: 0;position: absolute;width: 1px;}#sk-container-id-2 div.sk-estimator {font-family: monospace;background-color: #f0f8ff;border: 1px dotted black;border-radius: 0.25em;box-sizing: border-box;margin-bottom: 0.5em;}#sk-container-id-2 div.sk-estimator:hover {background-color: #d4ebff;}#sk-container-id-2 div.sk-parallel-item::after {content: \"\";width: 100%;border-bottom: 1px solid gray;flex-grow: 1;}#sk-container-id-2 div.sk-label:hover label.sk-toggleable__label {background-color: #d4ebff;}#sk-container-id-2 div.sk-serial::before {content: \"\";position: absolute;border-left: 1px solid gray;box-sizing: border-box;top: 0;bottom: 0;left: 50%;z-index: 0;}#sk-container-id-2 div.sk-serial {display: flex;flex-direction: column;align-items: center;background-color: white;padding-right: 0.2em;padding-left: 0.2em;position: relative;}#sk-container-id-2 div.sk-item {position: relative;z-index: 1;}#sk-container-id-2 div.sk-parallel {display: flex;align-items: stretch;justify-content: center;background-color: white;position: relative;}#sk-container-id-2 div.sk-item::before, #sk-container-id-2 div.sk-parallel-item::before {content: \"\";position: absolute;border-left: 1px solid gray;box-sizing: border-box;top: 0;bottom: 0;left: 50%;z-index: -1;}#sk-container-id-2 div.sk-parallel-item {display: flex;flex-direction: column;z-index: 1;position: relative;background-color: white;}#sk-container-id-2 div.sk-parallel-item:first-child::after {align-self: flex-end;width: 50%;}#sk-container-id-2 div.sk-parallel-item:last-child::after {align-self: flex-start;width: 50%;}#sk-container-id-2 div.sk-parallel-item:only-child::after {width: 0;}#sk-container-id-2 div.sk-dashed-wrapped {border: 1px dashed gray;margin: 0 0.4em 0.5em 0.4em;box-sizing: border-box;padding-bottom: 0.4em;background-color: white;}#sk-container-id-2 div.sk-label label {font-family: monospace;font-weight: bold;display: inline-block;line-height: 1.2em;}#sk-container-id-2 div.sk-label-container {text-align: center;}#sk-container-id-2 div.sk-container {/* jupyter's `normalize.less` sets `[hidden] { display: none; }` but bootstrap.min.css set `[hidden] { display: none !important; }` so we also need the `!important` here to be able to override the default hidden behavior on the sphinx rendered scikit-learn.org. See: https://github.com/scikit-learn/scikit-learn/issues/21755 */display: inline-block !important;position: relative;}#sk-container-id-2 div.sk-text-repr-fallback {display: none;}</style><div id=\"sk-container-id-2\" class=\"sk-top-container\"><div class=\"sk-text-repr-fallback\"><pre>Pipeline(steps=[(&#x27;columntransformer&#x27;,\n",
       "                 ColumnTransformer(transformers=[(&#x27;standardscaler&#x27;,\n",
       "                                                  StandardScaler(),\n",
       "                                                  [&#x27;danceability&#x27;, &#x27;energy&#x27;,\n",
       "                                                   &#x27;loudness&#x27;, &#x27;speechiness&#x27;,\n",
       "                                                   &#x27;instrumentalness&#x27;,\n",
       "                                                   &#x27;valence&#x27;,\n",
       "                                                   &#x27;time_signature&#x27;])])),\n",
       "                (&#x27;kneighborsclassifier&#x27;, KNeighborsClassifier(n_neighbors=16))])</pre><b>In a Jupyter environment, please rerun this cell to show the HTML representation or trust the notebook. <br />On GitHub, the HTML representation is unable to render, please try loading this page with nbviewer.org.</b></div><div class=\"sk-container\" hidden><div class=\"sk-item sk-dashed-wrapped\"><div class=\"sk-label-container\"><div class=\"sk-label sk-toggleable\"><input class=\"sk-toggleable__control sk-hidden--visually\" id=\"sk-estimator-id-6\" type=\"checkbox\" ><label for=\"sk-estimator-id-6\" class=\"sk-toggleable__label sk-toggleable__label-arrow\">Pipeline</label><div class=\"sk-toggleable__content\"><pre>Pipeline(steps=[(&#x27;columntransformer&#x27;,\n",
       "                 ColumnTransformer(transformers=[(&#x27;standardscaler&#x27;,\n",
       "                                                  StandardScaler(),\n",
       "                                                  [&#x27;danceability&#x27;, &#x27;energy&#x27;,\n",
       "                                                   &#x27;loudness&#x27;, &#x27;speechiness&#x27;,\n",
       "                                                   &#x27;instrumentalness&#x27;,\n",
       "                                                   &#x27;valence&#x27;,\n",
       "                                                   &#x27;time_signature&#x27;])])),\n",
       "                (&#x27;kneighborsclassifier&#x27;, KNeighborsClassifier(n_neighbors=16))])</pre></div></div></div><div class=\"sk-serial\"><div class=\"sk-item sk-dashed-wrapped\"><div class=\"sk-label-container\"><div class=\"sk-label sk-toggleable\"><input class=\"sk-toggleable__control sk-hidden--visually\" id=\"sk-estimator-id-7\" type=\"checkbox\" ><label for=\"sk-estimator-id-7\" class=\"sk-toggleable__label sk-toggleable__label-arrow\">columntransformer: ColumnTransformer</label><div class=\"sk-toggleable__content\"><pre>ColumnTransformer(transformers=[(&#x27;standardscaler&#x27;, StandardScaler(),\n",
       "                                 [&#x27;danceability&#x27;, &#x27;energy&#x27;, &#x27;loudness&#x27;,\n",
       "                                  &#x27;speechiness&#x27;, &#x27;instrumentalness&#x27;, &#x27;valence&#x27;,\n",
       "                                  &#x27;time_signature&#x27;])])</pre></div></div></div><div class=\"sk-parallel\"><div class=\"sk-parallel-item\"><div class=\"sk-item\"><div class=\"sk-label-container\"><div class=\"sk-label sk-toggleable\"><input class=\"sk-toggleable__control sk-hidden--visually\" id=\"sk-estimator-id-8\" type=\"checkbox\" ><label for=\"sk-estimator-id-8\" class=\"sk-toggleable__label sk-toggleable__label-arrow\">standardscaler</label><div class=\"sk-toggleable__content\"><pre>[&#x27;danceability&#x27;, &#x27;energy&#x27;, &#x27;loudness&#x27;, &#x27;speechiness&#x27;, &#x27;instrumentalness&#x27;, &#x27;valence&#x27;, &#x27;time_signature&#x27;]</pre></div></div></div><div class=\"sk-serial\"><div class=\"sk-item\"><div class=\"sk-estimator sk-toggleable\"><input class=\"sk-toggleable__control sk-hidden--visually\" id=\"sk-estimator-id-9\" type=\"checkbox\" ><label for=\"sk-estimator-id-9\" class=\"sk-toggleable__label sk-toggleable__label-arrow\">StandardScaler</label><div class=\"sk-toggleable__content\"><pre>StandardScaler()</pre></div></div></div></div></div></div></div></div><div class=\"sk-item\"><div class=\"sk-estimator sk-toggleable\"><input class=\"sk-toggleable__control sk-hidden--visually\" id=\"sk-estimator-id-10\" type=\"checkbox\" ><label for=\"sk-estimator-id-10\" class=\"sk-toggleable__label sk-toggleable__label-arrow\">KNeighborsClassifier</label><div class=\"sk-toggleable__content\"><pre>KNeighborsClassifier(n_neighbors=16)</pre></div></div></div></div></div></div></div>"
      ],
      "text/plain": [
       "Pipeline(steps=[('columntransformer',\n",
       "                 ColumnTransformer(transformers=[('standardscaler',\n",
       "                                                  StandardScaler(),\n",
       "                                                  ['danceability', 'energy',\n",
       "                                                   'loudness', 'speechiness',\n",
       "                                                   'instrumentalness',\n",
       "                                                   'valence',\n",
       "                                                   'time_signature'])])),\n",
       "                ('kneighborsclassifier', KNeighborsClassifier(n_neighbors=16))])"
      ]
     },
     "execution_count": 84,
     "metadata": {},
     "output_type": "execute_result"
    }
   ],
   "source": [
    "from sklearn.neighbors import KNeighborsClassifier\n",
    "from sklearn.pipeline import make_pipeline\n",
    "\n",
    "knn = KNeighborsClassifier(n_neighbors = 16)\n",
    "\n",
    "X = music_train.loc[:, [\"danceability\", \"energy\", \"loudness\", \"speechiness\", \"instrumentalness\", \"valence\", \"time_signature\"]]\n",
    "y = music_train[\"target\"]\n",
    "\n",
    "knn_fit = make_pipeline(music_preprocessor, knn).fit(X, y)\n",
    "\n",
    "knn_fit"
   ]
  },
  {
   "cell_type": "code",
   "execution_count": 85,
   "metadata": {},
   "outputs": [
    {
     "data": {
      "text/html": [
       "<div>\n",
       "<style scoped>\n",
       "    .dataframe tbody tr th:only-of-type {\n",
       "        vertical-align: middle;\n",
       "    }\n",
       "\n",
       "    .dataframe tbody tr th {\n",
       "        vertical-align: top;\n",
       "    }\n",
       "\n",
       "    .dataframe thead th {\n",
       "        text-align: right;\n",
       "    }\n",
       "</style>\n",
       "<table border=\"1\" class=\"dataframe\">\n",
       "  <thead>\n",
       "    <tr style=\"text-align: right;\">\n",
       "      <th></th>\n",
       "      <th>track</th>\n",
       "      <th>target</th>\n",
       "      <th>predicted</th>\n",
       "    </tr>\n",
       "  </thead>\n",
       "  <tbody>\n",
       "    <tr>\n",
       "      <th>202</th>\n",
       "      <td>Enemy - Radio Edit</td>\n",
       "      <td>Flop</td>\n",
       "      <td>Hit</td>\n",
       "    </tr>\n",
       "    <tr>\n",
       "      <th>4893</th>\n",
       "      <td>Wat U Mean (Aye, Aye, Aye)</td>\n",
       "      <td>Hit</td>\n",
       "      <td>Hit</td>\n",
       "    </tr>\n",
       "    <tr>\n",
       "      <th>6033</th>\n",
       "      <td>Woman</td>\n",
       "      <td>Hit</td>\n",
       "      <td>Hit</td>\n",
       "    </tr>\n",
       "    <tr>\n",
       "      <th>2988</th>\n",
       "      <td>La Dinastía Fernández - La Derrota / Volver, V...</td>\n",
       "      <td>Flop</td>\n",
       "      <td>Hit</td>\n",
       "    </tr>\n",
       "    <tr>\n",
       "      <th>121</th>\n",
       "      <td>Lois Lane</td>\n",
       "      <td>Flop</td>\n",
       "      <td>Hit</td>\n",
       "    </tr>\n",
       "    <tr>\n",
       "      <th>...</th>\n",
       "      <td>...</td>\n",
       "      <td>...</td>\n",
       "      <td>...</td>\n",
       "    </tr>\n",
       "    <tr>\n",
       "      <th>669</th>\n",
       "      <td>Sitting on the Roof of S.F.A.I.</td>\n",
       "      <td>Flop</td>\n",
       "      <td>Hit</td>\n",
       "    </tr>\n",
       "    <tr>\n",
       "      <th>149</th>\n",
       "      <td>Seal The Deal</td>\n",
       "      <td>Flop</td>\n",
       "      <td>Flop</td>\n",
       "    </tr>\n",
       "    <tr>\n",
       "      <th>813</th>\n",
       "      <td>California King Bed</td>\n",
       "      <td>Hit</td>\n",
       "      <td>Hit</td>\n",
       "    </tr>\n",
       "    <tr>\n",
       "      <th>45</th>\n",
       "      <td>Money</td>\n",
       "      <td>Flop</td>\n",
       "      <td>Flop</td>\n",
       "    </tr>\n",
       "    <tr>\n",
       "      <th>932</th>\n",
       "      <td>Que Pretendes</td>\n",
       "      <td>Hit</td>\n",
       "      <td>Hit</td>\n",
       "    </tr>\n",
       "  </tbody>\n",
       "</table>\n",
       "<p>1600 rows × 3 columns</p>\n",
       "</div>"
      ],
      "text/plain": [
       "                                                  track target predicted\n",
       "202                                  Enemy - Radio Edit   Flop       Hit\n",
       "4893                         Wat U Mean (Aye, Aye, Aye)    Hit       Hit\n",
       "6033                                              Woman    Hit       Hit\n",
       "2988  La Dinastía Fernández - La Derrota / Volver, V...   Flop       Hit\n",
       "121                                           Lois Lane   Flop       Hit\n",
       "...                                                 ...    ...       ...\n",
       "669                     Sitting on the Roof of S.F.A.I.   Flop       Hit\n",
       "149                                       Seal The Deal   Flop      Flop\n",
       "813                                 California King Bed    Hit       Hit\n",
       "45                                                Money   Flop      Flop\n",
       "932                                       Que Pretendes    Hit       Hit\n",
       "\n",
       "[1600 rows x 3 columns]"
      ]
     },
     "execution_count": 85,
     "metadata": {},
     "output_type": "execute_result"
    }
   ],
   "source": [
    "music_test_predictions_final = music_test.assign(\n",
    "    predicted = knn_fit.predict(music_test.loc[:, [\"danceability\", \"energy\", \"loudness\", \"speechiness\", \"instrumentalness\", \"valence\", \"time_signature\"]])\n",
    ")\n",
    "music_test_predictions_final[[\"track\", \"target\", \"predicted\"]]"
   ]
  },
  {
   "cell_type": "code",
   "execution_count": 86,
   "metadata": {},
   "outputs": [
    {
     "data": {
      "text/plain": [
       "0.81875"
      ]
     },
     "execution_count": 86,
     "metadata": {},
     "output_type": "execute_result"
    }
   ],
   "source": [
    "music_acc_final = knn_fit.score(\n",
    "    music_test.loc[:, [\"danceability\", \"energy\", \"loudness\", \"speechiness\", \"instrumentalness\", \"valence\", \"time_signature\"]],\n",
    "    music_test[\"target\"]\n",
    ")\n",
    "music_acc_final"
   ]
  },
  {
   "cell_type": "code",
   "execution_count": 87,
   "metadata": {},
   "outputs": [
    {
     "data": {
      "text/html": [
       "<div>\n",
       "<style scoped>\n",
       "    .dataframe tbody tr th:only-of-type {\n",
       "        vertical-align: middle;\n",
       "    }\n",
       "\n",
       "    .dataframe tbody tr th {\n",
       "        vertical-align: top;\n",
       "    }\n",
       "\n",
       "    .dataframe thead th {\n",
       "        text-align: right;\n",
       "    }\n",
       "</style>\n",
       "<table border=\"1\" class=\"dataframe\">\n",
       "  <thead>\n",
       "    <tr style=\"text-align: right;\">\n",
       "      <th>predicted</th>\n",
       "      <th>Flop</th>\n",
       "      <th>Hit</th>\n",
       "    </tr>\n",
       "    <tr>\n",
       "      <th>target</th>\n",
       "      <th></th>\n",
       "      <th></th>\n",
       "    </tr>\n",
       "  </thead>\n",
       "  <tbody>\n",
       "    <tr>\n",
       "      <th>Flop</th>\n",
       "      <td>586</td>\n",
       "      <td>214</td>\n",
       "    </tr>\n",
       "    <tr>\n",
       "      <th>Hit</th>\n",
       "      <td>76</td>\n",
       "      <td>724</td>\n",
       "    </tr>\n",
       "  </tbody>\n",
       "</table>\n",
       "</div>"
      ],
      "text/plain": [
       "predicted  Flop  Hit\n",
       "target              \n",
       "Flop        586  214\n",
       "Hit          76  724"
      ]
     },
     "execution_count": 87,
     "metadata": {},
     "output_type": "execute_result"
    }
   ],
   "source": [
    "#Confusion Matrix\n",
    "\n",
    "pd.crosstab(\n",
    "    music_test_predictions_final[\"target\"],\n",
    "    music_test_predictions_final[\"predicted\"]\n",
    ")"
   ]
  },
  {
   "attachments": {},
   "cell_type": "markdown",
   "metadata": {},
   "source": [
    "Therefore, my final classification model is able to classify whether or not a song was a hit in the 2010's based on several musical characteristics such as danceability, energy, loudness, speechiness, instrumentalness, valence, and time signature with **81.88% accuracy**."
   ]
  }
 ],
 "metadata": {
  "kernelspec": {
   "display_name": "studysession",
   "language": "python",
   "name": "python3"
  },
  "language_info": {
   "codemirror_mode": {
    "name": "ipython",
    "version": 3
   },
   "file_extension": ".py",
   "mimetype": "text/x-python",
   "name": "python",
   "nbconvert_exporter": "python",
   "pygments_lexer": "ipython3",
   "version": "3.11.4"
  },
  "orig_nbformat": 4,
  "vscode": {
   "interpreter": {
    "hash": "7a9a510fa626db46aee0218ec6da3ee75f7cc85d69e08414a90d16cec23404f1"
   }
  }
 },
 "nbformat": 4,
 "nbformat_minor": 2
}
